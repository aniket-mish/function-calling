{
  "nbformat": 4,
  "nbformat_minor": 0,
  "metadata": {
    "colab": {
      "provenance": []
    },
    "kernelspec": {
      "name": "python3",
      "display_name": "Python 3"
    },
    "language_info": {
      "name": "python"
    },
    "widgets": {
      "application/vnd.jupyter.widget-state+json": {
        "c1cbe3864bb045cc8d1e9e77b14c5229": {
          "model_module": "@jupyter-widgets/controls",
          "model_name": "HBoxModel",
          "model_module_version": "1.5.0",
          "state": {
            "_dom_classes": [],
            "_model_module": "@jupyter-widgets/controls",
            "_model_module_version": "1.5.0",
            "_model_name": "HBoxModel",
            "_view_count": null,
            "_view_module": "@jupyter-widgets/controls",
            "_view_module_version": "1.5.0",
            "_view_name": "HBoxView",
            "box_style": "",
            "children": [
              "IPY_MODEL_8dca9836b31d44b3807715fcc5b6e0cc",
              "IPY_MODEL_acc6459df982443d8fff14b5d96857f5",
              "IPY_MODEL_11dbf710afc44019b4ca3b093c5277fe"
            ],
            "layout": "IPY_MODEL_ae0549f9baf94c8581e3ba4f0a771f30"
          }
        },
        "8dca9836b31d44b3807715fcc5b6e0cc": {
          "model_module": "@jupyter-widgets/controls",
          "model_name": "HTMLModel",
          "model_module_version": "1.5.0",
          "state": {
            "_dom_classes": [],
            "_model_module": "@jupyter-widgets/controls",
            "_model_module_version": "1.5.0",
            "_model_name": "HTMLModel",
            "_view_count": null,
            "_view_module": "@jupyter-widgets/controls",
            "_view_module_version": "1.5.0",
            "_view_name": "HTMLView",
            "description": "",
            "description_tooltip": null,
            "layout": "IPY_MODEL_5b207e5ec2c6444186a04af0a8de5383",
            "placeholder": "​",
            "style": "IPY_MODEL_27d66ab279b244b6b6dc3600ffba5e07",
            "value": "Downloading readme: 100%"
          }
        },
        "acc6459df982443d8fff14b5d96857f5": {
          "model_module": "@jupyter-widgets/controls",
          "model_name": "FloatProgressModel",
          "model_module_version": "1.5.0",
          "state": {
            "_dom_classes": [],
            "_model_module": "@jupyter-widgets/controls",
            "_model_module_version": "1.5.0",
            "_model_name": "FloatProgressModel",
            "_view_count": null,
            "_view_module": "@jupyter-widgets/controls",
            "_view_module_version": "1.5.0",
            "_view_name": "ProgressView",
            "bar_style": "success",
            "description": "",
            "description_tooltip": null,
            "layout": "IPY_MODEL_95b1e7780d4b42dbaff7a050a4ccfb65",
            "max": 2048,
            "min": 0,
            "orientation": "horizontal",
            "style": "IPY_MODEL_485ad7dc279d435994c6ae29ccd99164",
            "value": 2048
          }
        },
        "11dbf710afc44019b4ca3b093c5277fe": {
          "model_module": "@jupyter-widgets/controls",
          "model_name": "HTMLModel",
          "model_module_version": "1.5.0",
          "state": {
            "_dom_classes": [],
            "_model_module": "@jupyter-widgets/controls",
            "_model_module_version": "1.5.0",
            "_model_name": "HTMLModel",
            "_view_count": null,
            "_view_module": "@jupyter-widgets/controls",
            "_view_module_version": "1.5.0",
            "_view_name": "HTMLView",
            "description": "",
            "description_tooltip": null,
            "layout": "IPY_MODEL_f90435c6fa404b1db33462bc3d34e77b",
            "placeholder": "​",
            "style": "IPY_MODEL_118602889704469195a206720406672c",
            "value": " 2.05k/2.05k [00:00&lt;00:00, 81.6kB/s]"
          }
        },
        "ae0549f9baf94c8581e3ba4f0a771f30": {
          "model_module": "@jupyter-widgets/base",
          "model_name": "LayoutModel",
          "model_module_version": "1.2.0",
          "state": {
            "_model_module": "@jupyter-widgets/base",
            "_model_module_version": "1.2.0",
            "_model_name": "LayoutModel",
            "_view_count": null,
            "_view_module": "@jupyter-widgets/base",
            "_view_module_version": "1.2.0",
            "_view_name": "LayoutView",
            "align_content": null,
            "align_items": null,
            "align_self": null,
            "border": null,
            "bottom": null,
            "display": null,
            "flex": null,
            "flex_flow": null,
            "grid_area": null,
            "grid_auto_columns": null,
            "grid_auto_flow": null,
            "grid_auto_rows": null,
            "grid_column": null,
            "grid_gap": null,
            "grid_row": null,
            "grid_template_areas": null,
            "grid_template_columns": null,
            "grid_template_rows": null,
            "height": null,
            "justify_content": null,
            "justify_items": null,
            "left": null,
            "margin": null,
            "max_height": null,
            "max_width": null,
            "min_height": null,
            "min_width": null,
            "object_fit": null,
            "object_position": null,
            "order": null,
            "overflow": null,
            "overflow_x": null,
            "overflow_y": null,
            "padding": null,
            "right": null,
            "top": null,
            "visibility": null,
            "width": null
          }
        },
        "5b207e5ec2c6444186a04af0a8de5383": {
          "model_module": "@jupyter-widgets/base",
          "model_name": "LayoutModel",
          "model_module_version": "1.2.0",
          "state": {
            "_model_module": "@jupyter-widgets/base",
            "_model_module_version": "1.2.0",
            "_model_name": "LayoutModel",
            "_view_count": null,
            "_view_module": "@jupyter-widgets/base",
            "_view_module_version": "1.2.0",
            "_view_name": "LayoutView",
            "align_content": null,
            "align_items": null,
            "align_self": null,
            "border": null,
            "bottom": null,
            "display": null,
            "flex": null,
            "flex_flow": null,
            "grid_area": null,
            "grid_auto_columns": null,
            "grid_auto_flow": null,
            "grid_auto_rows": null,
            "grid_column": null,
            "grid_gap": null,
            "grid_row": null,
            "grid_template_areas": null,
            "grid_template_columns": null,
            "grid_template_rows": null,
            "height": null,
            "justify_content": null,
            "justify_items": null,
            "left": null,
            "margin": null,
            "max_height": null,
            "max_width": null,
            "min_height": null,
            "min_width": null,
            "object_fit": null,
            "object_position": null,
            "order": null,
            "overflow": null,
            "overflow_x": null,
            "overflow_y": null,
            "padding": null,
            "right": null,
            "top": null,
            "visibility": null,
            "width": null
          }
        },
        "27d66ab279b244b6b6dc3600ffba5e07": {
          "model_module": "@jupyter-widgets/controls",
          "model_name": "DescriptionStyleModel",
          "model_module_version": "1.5.0",
          "state": {
            "_model_module": "@jupyter-widgets/controls",
            "_model_module_version": "1.5.0",
            "_model_name": "DescriptionStyleModel",
            "_view_count": null,
            "_view_module": "@jupyter-widgets/base",
            "_view_module_version": "1.2.0",
            "_view_name": "StyleView",
            "description_width": ""
          }
        },
        "95b1e7780d4b42dbaff7a050a4ccfb65": {
          "model_module": "@jupyter-widgets/base",
          "model_name": "LayoutModel",
          "model_module_version": "1.2.0",
          "state": {
            "_model_module": "@jupyter-widgets/base",
            "_model_module_version": "1.2.0",
            "_model_name": "LayoutModel",
            "_view_count": null,
            "_view_module": "@jupyter-widgets/base",
            "_view_module_version": "1.2.0",
            "_view_name": "LayoutView",
            "align_content": null,
            "align_items": null,
            "align_self": null,
            "border": null,
            "bottom": null,
            "display": null,
            "flex": null,
            "flex_flow": null,
            "grid_area": null,
            "grid_auto_columns": null,
            "grid_auto_flow": null,
            "grid_auto_rows": null,
            "grid_column": null,
            "grid_gap": null,
            "grid_row": null,
            "grid_template_areas": null,
            "grid_template_columns": null,
            "grid_template_rows": null,
            "height": null,
            "justify_content": null,
            "justify_items": null,
            "left": null,
            "margin": null,
            "max_height": null,
            "max_width": null,
            "min_height": null,
            "min_width": null,
            "object_fit": null,
            "object_position": null,
            "order": null,
            "overflow": null,
            "overflow_x": null,
            "overflow_y": null,
            "padding": null,
            "right": null,
            "top": null,
            "visibility": null,
            "width": null
          }
        },
        "485ad7dc279d435994c6ae29ccd99164": {
          "model_module": "@jupyter-widgets/controls",
          "model_name": "ProgressStyleModel",
          "model_module_version": "1.5.0",
          "state": {
            "_model_module": "@jupyter-widgets/controls",
            "_model_module_version": "1.5.0",
            "_model_name": "ProgressStyleModel",
            "_view_count": null,
            "_view_module": "@jupyter-widgets/base",
            "_view_module_version": "1.2.0",
            "_view_name": "StyleView",
            "bar_color": null,
            "description_width": ""
          }
        },
        "f90435c6fa404b1db33462bc3d34e77b": {
          "model_module": "@jupyter-widgets/base",
          "model_name": "LayoutModel",
          "model_module_version": "1.2.0",
          "state": {
            "_model_module": "@jupyter-widgets/base",
            "_model_module_version": "1.2.0",
            "_model_name": "LayoutModel",
            "_view_count": null,
            "_view_module": "@jupyter-widgets/base",
            "_view_module_version": "1.2.0",
            "_view_name": "LayoutView",
            "align_content": null,
            "align_items": null,
            "align_self": null,
            "border": null,
            "bottom": null,
            "display": null,
            "flex": null,
            "flex_flow": null,
            "grid_area": null,
            "grid_auto_columns": null,
            "grid_auto_flow": null,
            "grid_auto_rows": null,
            "grid_column": null,
            "grid_gap": null,
            "grid_row": null,
            "grid_template_areas": null,
            "grid_template_columns": null,
            "grid_template_rows": null,
            "height": null,
            "justify_content": null,
            "justify_items": null,
            "left": null,
            "margin": null,
            "max_height": null,
            "max_width": null,
            "min_height": null,
            "min_width": null,
            "object_fit": null,
            "object_position": null,
            "order": null,
            "overflow": null,
            "overflow_x": null,
            "overflow_y": null,
            "padding": null,
            "right": null,
            "top": null,
            "visibility": null,
            "width": null
          }
        },
        "118602889704469195a206720406672c": {
          "model_module": "@jupyter-widgets/controls",
          "model_name": "DescriptionStyleModel",
          "model_module_version": "1.5.0",
          "state": {
            "_model_module": "@jupyter-widgets/controls",
            "_model_module_version": "1.5.0",
            "_model_name": "DescriptionStyleModel",
            "_view_count": null,
            "_view_module": "@jupyter-widgets/base",
            "_view_module_version": "1.2.0",
            "_view_name": "StyleView",
            "description_width": ""
          }
        },
        "23e85bb8b5814992ae208526afd65c04": {
          "model_module": "@jupyter-widgets/controls",
          "model_name": "HBoxModel",
          "model_module_version": "1.5.0",
          "state": {
            "_dom_classes": [],
            "_model_module": "@jupyter-widgets/controls",
            "_model_module_version": "1.5.0",
            "_model_name": "HBoxModel",
            "_view_count": null,
            "_view_module": "@jupyter-widgets/controls",
            "_view_module_version": "1.5.0",
            "_view_name": "HBoxView",
            "box_style": "",
            "children": [
              "IPY_MODEL_0eda05189e80447f9f2bcf4aa12934f1",
              "IPY_MODEL_ae53c981a4534056ac308c0b0d355b88",
              "IPY_MODEL_d2e7ed2e304e4935a6c000fdfa960b70"
            ],
            "layout": "IPY_MODEL_eda8625ca15242268a840af316897ada"
          }
        },
        "0eda05189e80447f9f2bcf4aa12934f1": {
          "model_module": "@jupyter-widgets/controls",
          "model_name": "HTMLModel",
          "model_module_version": "1.5.0",
          "state": {
            "_dom_classes": [],
            "_model_module": "@jupyter-widgets/controls",
            "_model_module_version": "1.5.0",
            "_model_name": "HTMLModel",
            "_view_count": null,
            "_view_module": "@jupyter-widgets/controls",
            "_view_module_version": "1.5.0",
            "_view_name": "HTMLView",
            "description": "",
            "description_tooltip": null,
            "layout": "IPY_MODEL_96254ae4d8ad4925862aa0428b8e5216",
            "placeholder": "​",
            "style": "IPY_MODEL_66d38bfde31343f3b69541a444d9e155",
            "value": "Downloading data: 100%"
          }
        },
        "ae53c981a4534056ac308c0b0d355b88": {
          "model_module": "@jupyter-widgets/controls",
          "model_name": "FloatProgressModel",
          "model_module_version": "1.5.0",
          "state": {
            "_dom_classes": [],
            "_model_module": "@jupyter-widgets/controls",
            "_model_module_version": "1.5.0",
            "_model_name": "FloatProgressModel",
            "_view_count": null,
            "_view_module": "@jupyter-widgets/controls",
            "_view_module_version": "1.5.0",
            "_view_name": "ProgressView",
            "bar_style": "success",
            "description": "",
            "description_tooltip": null,
            "layout": "IPY_MODEL_30486053f0f3486194a01131f80b84ca",
            "max": 19678149,
            "min": 0,
            "orientation": "horizontal",
            "style": "IPY_MODEL_b75751eeb01941619b870e0e319efd92",
            "value": 19678149
          }
        },
        "d2e7ed2e304e4935a6c000fdfa960b70": {
          "model_module": "@jupyter-widgets/controls",
          "model_name": "HTMLModel",
          "model_module_version": "1.5.0",
          "state": {
            "_dom_classes": [],
            "_model_module": "@jupyter-widgets/controls",
            "_model_module_version": "1.5.0",
            "_model_name": "HTMLModel",
            "_view_count": null,
            "_view_module": "@jupyter-widgets/controls",
            "_view_module_version": "1.5.0",
            "_view_name": "HTMLView",
            "description": "",
            "description_tooltip": null,
            "layout": "IPY_MODEL_0e816e5c062e4d90894bbc6e6ad5812d",
            "placeholder": "​",
            "style": "IPY_MODEL_b1497909100142e6b325284ec5b0961e",
            "value": " 19.7M/19.7M [00:01&lt;00:00, 15.0MB/s]"
          }
        },
        "eda8625ca15242268a840af316897ada": {
          "model_module": "@jupyter-widgets/base",
          "model_name": "LayoutModel",
          "model_module_version": "1.2.0",
          "state": {
            "_model_module": "@jupyter-widgets/base",
            "_model_module_version": "1.2.0",
            "_model_name": "LayoutModel",
            "_view_count": null,
            "_view_module": "@jupyter-widgets/base",
            "_view_module_version": "1.2.0",
            "_view_name": "LayoutView",
            "align_content": null,
            "align_items": null,
            "align_self": null,
            "border": null,
            "bottom": null,
            "display": null,
            "flex": null,
            "flex_flow": null,
            "grid_area": null,
            "grid_auto_columns": null,
            "grid_auto_flow": null,
            "grid_auto_rows": null,
            "grid_column": null,
            "grid_gap": null,
            "grid_row": null,
            "grid_template_areas": null,
            "grid_template_columns": null,
            "grid_template_rows": null,
            "height": null,
            "justify_content": null,
            "justify_items": null,
            "left": null,
            "margin": null,
            "max_height": null,
            "max_width": null,
            "min_height": null,
            "min_width": null,
            "object_fit": null,
            "object_position": null,
            "order": null,
            "overflow": null,
            "overflow_x": null,
            "overflow_y": null,
            "padding": null,
            "right": null,
            "top": null,
            "visibility": null,
            "width": null
          }
        },
        "96254ae4d8ad4925862aa0428b8e5216": {
          "model_module": "@jupyter-widgets/base",
          "model_name": "LayoutModel",
          "model_module_version": "1.2.0",
          "state": {
            "_model_module": "@jupyter-widgets/base",
            "_model_module_version": "1.2.0",
            "_model_name": "LayoutModel",
            "_view_count": null,
            "_view_module": "@jupyter-widgets/base",
            "_view_module_version": "1.2.0",
            "_view_name": "LayoutView",
            "align_content": null,
            "align_items": null,
            "align_self": null,
            "border": null,
            "bottom": null,
            "display": null,
            "flex": null,
            "flex_flow": null,
            "grid_area": null,
            "grid_auto_columns": null,
            "grid_auto_flow": null,
            "grid_auto_rows": null,
            "grid_column": null,
            "grid_gap": null,
            "grid_row": null,
            "grid_template_areas": null,
            "grid_template_columns": null,
            "grid_template_rows": null,
            "height": null,
            "justify_content": null,
            "justify_items": null,
            "left": null,
            "margin": null,
            "max_height": null,
            "max_width": null,
            "min_height": null,
            "min_width": null,
            "object_fit": null,
            "object_position": null,
            "order": null,
            "overflow": null,
            "overflow_x": null,
            "overflow_y": null,
            "padding": null,
            "right": null,
            "top": null,
            "visibility": null,
            "width": null
          }
        },
        "66d38bfde31343f3b69541a444d9e155": {
          "model_module": "@jupyter-widgets/controls",
          "model_name": "DescriptionStyleModel",
          "model_module_version": "1.5.0",
          "state": {
            "_model_module": "@jupyter-widgets/controls",
            "_model_module_version": "1.5.0",
            "_model_name": "DescriptionStyleModel",
            "_view_count": null,
            "_view_module": "@jupyter-widgets/base",
            "_view_module_version": "1.2.0",
            "_view_name": "StyleView",
            "description_width": ""
          }
        },
        "30486053f0f3486194a01131f80b84ca": {
          "model_module": "@jupyter-widgets/base",
          "model_name": "LayoutModel",
          "model_module_version": "1.2.0",
          "state": {
            "_model_module": "@jupyter-widgets/base",
            "_model_module_version": "1.2.0",
            "_model_name": "LayoutModel",
            "_view_count": null,
            "_view_module": "@jupyter-widgets/base",
            "_view_module_version": "1.2.0",
            "_view_name": "LayoutView",
            "align_content": null,
            "align_items": null,
            "align_self": null,
            "border": null,
            "bottom": null,
            "display": null,
            "flex": null,
            "flex_flow": null,
            "grid_area": null,
            "grid_auto_columns": null,
            "grid_auto_flow": null,
            "grid_auto_rows": null,
            "grid_column": null,
            "grid_gap": null,
            "grid_row": null,
            "grid_template_areas": null,
            "grid_template_columns": null,
            "grid_template_rows": null,
            "height": null,
            "justify_content": null,
            "justify_items": null,
            "left": null,
            "margin": null,
            "max_height": null,
            "max_width": null,
            "min_height": null,
            "min_width": null,
            "object_fit": null,
            "object_position": null,
            "order": null,
            "overflow": null,
            "overflow_x": null,
            "overflow_y": null,
            "padding": null,
            "right": null,
            "top": null,
            "visibility": null,
            "width": null
          }
        },
        "b75751eeb01941619b870e0e319efd92": {
          "model_module": "@jupyter-widgets/controls",
          "model_name": "ProgressStyleModel",
          "model_module_version": "1.5.0",
          "state": {
            "_model_module": "@jupyter-widgets/controls",
            "_model_module_version": "1.5.0",
            "_model_name": "ProgressStyleModel",
            "_view_count": null,
            "_view_module": "@jupyter-widgets/base",
            "_view_module_version": "1.2.0",
            "_view_name": "StyleView",
            "bar_color": null,
            "description_width": ""
          }
        },
        "0e816e5c062e4d90894bbc6e6ad5812d": {
          "model_module": "@jupyter-widgets/base",
          "model_name": "LayoutModel",
          "model_module_version": "1.2.0",
          "state": {
            "_model_module": "@jupyter-widgets/base",
            "_model_module_version": "1.2.0",
            "_model_name": "LayoutModel",
            "_view_count": null,
            "_view_module": "@jupyter-widgets/base",
            "_view_module_version": "1.2.0",
            "_view_name": "LayoutView",
            "align_content": null,
            "align_items": null,
            "align_self": null,
            "border": null,
            "bottom": null,
            "display": null,
            "flex": null,
            "flex_flow": null,
            "grid_area": null,
            "grid_auto_columns": null,
            "grid_auto_flow": null,
            "grid_auto_rows": null,
            "grid_column": null,
            "grid_gap": null,
            "grid_row": null,
            "grid_template_areas": null,
            "grid_template_columns": null,
            "grid_template_rows": null,
            "height": null,
            "justify_content": null,
            "justify_items": null,
            "left": null,
            "margin": null,
            "max_height": null,
            "max_width": null,
            "min_height": null,
            "min_width": null,
            "object_fit": null,
            "object_position": null,
            "order": null,
            "overflow": null,
            "overflow_x": null,
            "overflow_y": null,
            "padding": null,
            "right": null,
            "top": null,
            "visibility": null,
            "width": null
          }
        },
        "b1497909100142e6b325284ec5b0961e": {
          "model_module": "@jupyter-widgets/controls",
          "model_name": "DescriptionStyleModel",
          "model_module_version": "1.5.0",
          "state": {
            "_model_module": "@jupyter-widgets/controls",
            "_model_module_version": "1.5.0",
            "_model_name": "DescriptionStyleModel",
            "_view_count": null,
            "_view_module": "@jupyter-widgets/base",
            "_view_module_version": "1.2.0",
            "_view_name": "StyleView",
            "description_width": ""
          }
        },
        "05254770223d4f05b963b0efbd72ecdb": {
          "model_module": "@jupyter-widgets/controls",
          "model_name": "HBoxModel",
          "model_module_version": "1.5.0",
          "state": {
            "_dom_classes": [],
            "_model_module": "@jupyter-widgets/controls",
            "_model_module_version": "1.5.0",
            "_model_name": "HBoxModel",
            "_view_count": null,
            "_view_module": "@jupyter-widgets/controls",
            "_view_module_version": "1.5.0",
            "_view_name": "HBoxView",
            "box_style": "",
            "children": [
              "IPY_MODEL_5621b99bb2ab43d7822c91fb29125099",
              "IPY_MODEL_e022daa813a748509d0f645b5e4c41b1",
              "IPY_MODEL_66e1feb85e994610be351d366d0176d2"
            ],
            "layout": "IPY_MODEL_31d1e3d0569941f8bceb905197691405"
          }
        },
        "5621b99bb2ab43d7822c91fb29125099": {
          "model_module": "@jupyter-widgets/controls",
          "model_name": "HTMLModel",
          "model_module_version": "1.5.0",
          "state": {
            "_dom_classes": [],
            "_model_module": "@jupyter-widgets/controls",
            "_model_module_version": "1.5.0",
            "_model_name": "HTMLModel",
            "_view_count": null,
            "_view_module": "@jupyter-widgets/controls",
            "_view_module_version": "1.5.0",
            "_view_name": "HTMLView",
            "description": "",
            "description_tooltip": null,
            "layout": "IPY_MODEL_aea7065dcbb24ee7b80fc61d4f5ab128",
            "placeholder": "​",
            "style": "IPY_MODEL_f5507b32fd8b4373ab0d570e8751f7c6",
            "value": "Generating train split: 100%"
          }
        },
        "e022daa813a748509d0f645b5e4c41b1": {
          "model_module": "@jupyter-widgets/controls",
          "model_name": "FloatProgressModel",
          "model_module_version": "1.5.0",
          "state": {
            "_dom_classes": [],
            "_model_module": "@jupyter-widgets/controls",
            "_model_module_version": "1.5.0",
            "_model_name": "FloatProgressModel",
            "_view_count": null,
            "_view_module": "@jupyter-widgets/controls",
            "_view_module_version": "1.5.0",
            "_view_name": "ProgressView",
            "bar_style": "success",
            "description": "",
            "description_tooltip": null,
            "layout": "IPY_MODEL_d7fccb0b9d5c4dcb97b838b317b7b515",
            "max": 20491,
            "min": 0,
            "orientation": "horizontal",
            "style": "IPY_MODEL_9041957a346b4a90aaf74373c5eff141",
            "value": 20491
          }
        },
        "66e1feb85e994610be351d366d0176d2": {
          "model_module": "@jupyter-widgets/controls",
          "model_name": "HTMLModel",
          "model_module_version": "1.5.0",
          "state": {
            "_dom_classes": [],
            "_model_module": "@jupyter-widgets/controls",
            "_model_module_version": "1.5.0",
            "_model_name": "HTMLModel",
            "_view_count": null,
            "_view_module": "@jupyter-widgets/controls",
            "_view_module_version": "1.5.0",
            "_view_name": "HTMLView",
            "description": "",
            "description_tooltip": null,
            "layout": "IPY_MODEL_1350e0841b724d9181f7e65990d1d894",
            "placeholder": "​",
            "style": "IPY_MODEL_69f28d55ac7a4f8a978d0af3ec3359b5",
            "value": " 20491/20491 [00:00&lt;00:00, 68606.11 examples/s]"
          }
        },
        "31d1e3d0569941f8bceb905197691405": {
          "model_module": "@jupyter-widgets/base",
          "model_name": "LayoutModel",
          "model_module_version": "1.2.0",
          "state": {
            "_model_module": "@jupyter-widgets/base",
            "_model_module_version": "1.2.0",
            "_model_name": "LayoutModel",
            "_view_count": null,
            "_view_module": "@jupyter-widgets/base",
            "_view_module_version": "1.2.0",
            "_view_name": "LayoutView",
            "align_content": null,
            "align_items": null,
            "align_self": null,
            "border": null,
            "bottom": null,
            "display": null,
            "flex": null,
            "flex_flow": null,
            "grid_area": null,
            "grid_auto_columns": null,
            "grid_auto_flow": null,
            "grid_auto_rows": null,
            "grid_column": null,
            "grid_gap": null,
            "grid_row": null,
            "grid_template_areas": null,
            "grid_template_columns": null,
            "grid_template_rows": null,
            "height": null,
            "justify_content": null,
            "justify_items": null,
            "left": null,
            "margin": null,
            "max_height": null,
            "max_width": null,
            "min_height": null,
            "min_width": null,
            "object_fit": null,
            "object_position": null,
            "order": null,
            "overflow": null,
            "overflow_x": null,
            "overflow_y": null,
            "padding": null,
            "right": null,
            "top": null,
            "visibility": null,
            "width": null
          }
        },
        "aea7065dcbb24ee7b80fc61d4f5ab128": {
          "model_module": "@jupyter-widgets/base",
          "model_name": "LayoutModel",
          "model_module_version": "1.2.0",
          "state": {
            "_model_module": "@jupyter-widgets/base",
            "_model_module_version": "1.2.0",
            "_model_name": "LayoutModel",
            "_view_count": null,
            "_view_module": "@jupyter-widgets/base",
            "_view_module_version": "1.2.0",
            "_view_name": "LayoutView",
            "align_content": null,
            "align_items": null,
            "align_self": null,
            "border": null,
            "bottom": null,
            "display": null,
            "flex": null,
            "flex_flow": null,
            "grid_area": null,
            "grid_auto_columns": null,
            "grid_auto_flow": null,
            "grid_auto_rows": null,
            "grid_column": null,
            "grid_gap": null,
            "grid_row": null,
            "grid_template_areas": null,
            "grid_template_columns": null,
            "grid_template_rows": null,
            "height": null,
            "justify_content": null,
            "justify_items": null,
            "left": null,
            "margin": null,
            "max_height": null,
            "max_width": null,
            "min_height": null,
            "min_width": null,
            "object_fit": null,
            "object_position": null,
            "order": null,
            "overflow": null,
            "overflow_x": null,
            "overflow_y": null,
            "padding": null,
            "right": null,
            "top": null,
            "visibility": null,
            "width": null
          }
        },
        "f5507b32fd8b4373ab0d570e8751f7c6": {
          "model_module": "@jupyter-widgets/controls",
          "model_name": "DescriptionStyleModel",
          "model_module_version": "1.5.0",
          "state": {
            "_model_module": "@jupyter-widgets/controls",
            "_model_module_version": "1.5.0",
            "_model_name": "DescriptionStyleModel",
            "_view_count": null,
            "_view_module": "@jupyter-widgets/base",
            "_view_module_version": "1.2.0",
            "_view_name": "StyleView",
            "description_width": ""
          }
        },
        "d7fccb0b9d5c4dcb97b838b317b7b515": {
          "model_module": "@jupyter-widgets/base",
          "model_name": "LayoutModel",
          "model_module_version": "1.2.0",
          "state": {
            "_model_module": "@jupyter-widgets/base",
            "_model_module_version": "1.2.0",
            "_model_name": "LayoutModel",
            "_view_count": null,
            "_view_module": "@jupyter-widgets/base",
            "_view_module_version": "1.2.0",
            "_view_name": "LayoutView",
            "align_content": null,
            "align_items": null,
            "align_self": null,
            "border": null,
            "bottom": null,
            "display": null,
            "flex": null,
            "flex_flow": null,
            "grid_area": null,
            "grid_auto_columns": null,
            "grid_auto_flow": null,
            "grid_auto_rows": null,
            "grid_column": null,
            "grid_gap": null,
            "grid_row": null,
            "grid_template_areas": null,
            "grid_template_columns": null,
            "grid_template_rows": null,
            "height": null,
            "justify_content": null,
            "justify_items": null,
            "left": null,
            "margin": null,
            "max_height": null,
            "max_width": null,
            "min_height": null,
            "min_width": null,
            "object_fit": null,
            "object_position": null,
            "order": null,
            "overflow": null,
            "overflow_x": null,
            "overflow_y": null,
            "padding": null,
            "right": null,
            "top": null,
            "visibility": null,
            "width": null
          }
        },
        "9041957a346b4a90aaf74373c5eff141": {
          "model_module": "@jupyter-widgets/controls",
          "model_name": "ProgressStyleModel",
          "model_module_version": "1.5.0",
          "state": {
            "_model_module": "@jupyter-widgets/controls",
            "_model_module_version": "1.5.0",
            "_model_name": "ProgressStyleModel",
            "_view_count": null,
            "_view_module": "@jupyter-widgets/base",
            "_view_module_version": "1.2.0",
            "_view_name": "StyleView",
            "bar_color": null,
            "description_width": ""
          }
        },
        "1350e0841b724d9181f7e65990d1d894": {
          "model_module": "@jupyter-widgets/base",
          "model_name": "LayoutModel",
          "model_module_version": "1.2.0",
          "state": {
            "_model_module": "@jupyter-widgets/base",
            "_model_module_version": "1.2.0",
            "_model_name": "LayoutModel",
            "_view_count": null,
            "_view_module": "@jupyter-widgets/base",
            "_view_module_version": "1.2.0",
            "_view_name": "LayoutView",
            "align_content": null,
            "align_items": null,
            "align_self": null,
            "border": null,
            "bottom": null,
            "display": null,
            "flex": null,
            "flex_flow": null,
            "grid_area": null,
            "grid_auto_columns": null,
            "grid_auto_flow": null,
            "grid_auto_rows": null,
            "grid_column": null,
            "grid_gap": null,
            "grid_row": null,
            "grid_template_areas": null,
            "grid_template_columns": null,
            "grid_template_rows": null,
            "height": null,
            "justify_content": null,
            "justify_items": null,
            "left": null,
            "margin": null,
            "max_height": null,
            "max_width": null,
            "min_height": null,
            "min_width": null,
            "object_fit": null,
            "object_position": null,
            "order": null,
            "overflow": null,
            "overflow_x": null,
            "overflow_y": null,
            "padding": null,
            "right": null,
            "top": null,
            "visibility": null,
            "width": null
          }
        },
        "69f28d55ac7a4f8a978d0af3ec3359b5": {
          "model_module": "@jupyter-widgets/controls",
          "model_name": "DescriptionStyleModel",
          "model_module_version": "1.5.0",
          "state": {
            "_model_module": "@jupyter-widgets/controls",
            "_model_module_version": "1.5.0",
            "_model_name": "DescriptionStyleModel",
            "_view_count": null,
            "_view_module": "@jupyter-widgets/base",
            "_view_module_version": "1.2.0",
            "_view_name": "StyleView",
            "description_width": ""
          }
        }
      }
    }
  },
  "cells": [
    {
      "cell_type": "markdown",
      "source": [
        "# Getting the dataset"
      ],
      "metadata": {
        "id": "99uRrpDyMpMp"
      }
    },
    {
      "cell_type": "code",
      "execution_count": 4,
      "metadata": {
        "colab": {
          "base_uri": "https://localhost:8080/",
          "height": 113,
          "referenced_widgets": [
            "c1cbe3864bb045cc8d1e9e77b14c5229",
            "8dca9836b31d44b3807715fcc5b6e0cc",
            "acc6459df982443d8fff14b5d96857f5",
            "11dbf710afc44019b4ca3b093c5277fe",
            "ae0549f9baf94c8581e3ba4f0a771f30",
            "5b207e5ec2c6444186a04af0a8de5383",
            "27d66ab279b244b6b6dc3600ffba5e07",
            "95b1e7780d4b42dbaff7a050a4ccfb65",
            "485ad7dc279d435994c6ae29ccd99164",
            "f90435c6fa404b1db33462bc3d34e77b",
            "118602889704469195a206720406672c",
            "23e85bb8b5814992ae208526afd65c04",
            "0eda05189e80447f9f2bcf4aa12934f1",
            "ae53c981a4534056ac308c0b0d355b88",
            "d2e7ed2e304e4935a6c000fdfa960b70",
            "eda8625ca15242268a840af316897ada",
            "96254ae4d8ad4925862aa0428b8e5216",
            "66d38bfde31343f3b69541a444d9e155",
            "30486053f0f3486194a01131f80b84ca",
            "b75751eeb01941619b870e0e319efd92",
            "0e816e5c062e4d90894bbc6e6ad5812d",
            "b1497909100142e6b325284ec5b0961e",
            "05254770223d4f05b963b0efbd72ecdb",
            "5621b99bb2ab43d7822c91fb29125099",
            "e022daa813a748509d0f645b5e4c41b1",
            "66e1feb85e994610be351d366d0176d2",
            "31d1e3d0569941f8bceb905197691405",
            "aea7065dcbb24ee7b80fc61d4f5ab128",
            "f5507b32fd8b4373ab0d570e8751f7c6",
            "d7fccb0b9d5c4dcb97b838b317b7b515",
            "9041957a346b4a90aaf74373c5eff141",
            "1350e0841b724d9181f7e65990d1d894",
            "69f28d55ac7a4f8a978d0af3ec3359b5"
          ]
        },
        "id": "fO2cPo8XH7Qz",
        "outputId": "6b3e1d39-1179-41c6-e8b9-2b92c6c509dd"
      },
      "outputs": [
        {
          "output_type": "display_data",
          "data": {
            "text/plain": [
              "Downloading readme:   0%|          | 0.00/2.05k [00:00<?, ?B/s]"
            ],
            "application/vnd.jupyter.widget-view+json": {
              "version_major": 2,
              "version_minor": 0,
              "model_id": "c1cbe3864bb045cc8d1e9e77b14c5229"
            }
          },
          "metadata": {}
        },
        {
          "output_type": "display_data",
          "data": {
            "text/plain": [
              "Downloading data:   0%|          | 0.00/19.7M [00:00<?, ?B/s]"
            ],
            "application/vnd.jupyter.widget-view+json": {
              "version_major": 2,
              "version_minor": 0,
              "model_id": "23e85bb8b5814992ae208526afd65c04"
            }
          },
          "metadata": {}
        },
        {
          "output_type": "display_data",
          "data": {
            "text/plain": [
              "Generating train split:   0%|          | 0/20491 [00:00<?, ? examples/s]"
            ],
            "application/vnd.jupyter.widget-view+json": {
              "version_major": 2,
              "version_minor": 0,
              "model_id": "05254770223d4f05b963b0efbd72ecdb"
            }
          },
          "metadata": {}
        }
      ],
      "source": [
        "from datasets import load_dataset\n",
        "\n",
        "ds = load_dataset(\"argilla/tripadvisor-hotel-reviews\")"
      ]
    },
    {
      "cell_type": "code",
      "source": [
        "sample_data = ds[\"train\"][\"text\"][3]"
      ],
      "metadata": {
        "id": "8OiFM1gMH_LV"
      },
      "execution_count": 11,
      "outputs": []
    },
    {
      "cell_type": "code",
      "source": [
        "print(sample_data)"
      ],
      "metadata": {
        "colab": {
          "base_uri": "https://localhost:8080/"
        },
        "id": "3oKGx7WrImNg",
        "outputId": "ce90102c-30ac-4fa8-a3b8-03ac19a32c7b"
      },
      "execution_count": 12,
      "outputs": [
        {
          "output_type": "stream",
          "name": "stdout",
          "text": [
            "great deal waikiki trip hawaii outrigger luana great hotel/condo, booked city view kitchenette, kitchen amenities ask, nice pool cabanas sun gets, barbeque area feel like getting fresh fish market highly recommended, staff friendly accommodating allowing access garage shower room 8 hours checked, 18/day parking little steep want explore life waikiki great hotel beginning main strip, tour desk not open probably went season desk touch tour desks outriggers waikiki happy make arrangements, beach minute walk away pay upwards 100/night right beach,  \n"
          ]
        }
      ]
    },
    {
      "cell_type": "markdown",
      "source": [
        "# Building Prompt"
      ],
      "metadata": {
        "id": "4grfi_SNc6fm"
      }
    },
    {
      "cell_type": "code",
      "source": [
        "import requests\n",
        "\n",
        "API_URL = \"http://nexusraven.nexusflow.ai\"\n",
        "\n",
        "headers = {\n",
        "    \"Content-Type\": \"application/json\"\n",
        "}\n",
        "\n",
        "def query(payload):\n",
        "    response = requests.post(API_URL, json=payload, headers=headers)\n",
        "    return response.json()\n",
        "\n",
        "def query_raven(prompt):\n",
        "    payload = {\n",
        "        \"inputs\": prompt,\n",
        "        \"parameters\": {\"do_sample\": True, \"temperature\": 0.001, \"max_new_tokens\": 400, \"stop\": [\"<bot_end>\", \"Thought:\"], \"return_full_text\": False}\n",
        "    }\n",
        "    return query(payload)[0][\"generated_text\"].replace(\"Call:\", \"\").replace(\"Thought:\", \"\").strip()"
      ],
      "metadata": {
        "id": "qE8_Yfelc-DQ"
      },
      "execution_count": 18,
      "outputs": []
    },
    {
      "cell_type": "markdown",
      "source": [
        "# Defining what's important"
      ],
      "metadata": {
        "id": "OjpLReaNMsst"
      }
    },
    {
      "cell_type": "code",
      "source": [
        "from typing import List\n",
        "from dataclasses import dataclass"
      ],
      "metadata": {
        "id": "Z1z1TuLPKmOY"
      },
      "execution_count": 14,
      "outputs": []
    },
    {
      "cell_type": "code",
      "source": [
        "schema_id = {\"destination\", \"price\", \"hotel_facilities\", \"food\", \"sentiment\", \"nearby_places\"}"
      ],
      "metadata": {
        "id": "vfuMd-UWLMYb"
      },
      "execution_count": 15,
      "outputs": []
    },
    {
      "cell_type": "code",
      "source": [
        "dataclass_schema_representation = '''\n",
        "@dataclass\n",
        "class Record:\n",
        "    destination: str # Destination of the hotel if provided, else ''\n",
        "    price: str # Price of the hotel if provided, else ''\n",
        "    hotel_facilities: List[str] # Facilities provided by the hotel if provided, else ''\n",
        "    food: List[str] # Food provided by the hotel if provided, else ''\n",
        "    sentiment: str # Overall customer sentiment, either 'frustrated' or 'happy'\n",
        "    nearby_places: List[str] # Nearby locations to visit if provided, else ''\n",
        "'''"
      ],
      "metadata": {
        "id": "Nlg_Nlf9Lr9F"
      },
      "execution_count": 16,
      "outputs": []
    },
    {
      "cell_type": "code",
      "source": [
        "exec(dataclass_schema_representation)"
      ],
      "metadata": {
        "id": "9bV7cyPVMjAi"
      },
      "execution_count": 17,
      "outputs": []
    },
    {
      "cell_type": "markdown",
      "source": [
        "# Building the database"
      ],
      "metadata": {
        "id": "M3cGtskIM2FG"
      }
    },
    {
      "cell_type": "code",
      "source": [
        "def initialize_db():\n",
        "    import sqlite3\n",
        "\n",
        "    # Connect to SQLite db\n",
        "    conn = sqlite3.connect(\"tripadvisor.db\")\n",
        "    c = conn.cursor()\n",
        "\n",
        "    # Table name\n",
        "    table_name = \"reviews\"\n",
        "\n",
        "    # Schema\n",
        "    columns = '''\n",
        "    id INTEGER PRIMARY KEY,\n",
        "    destination TEXT,\n",
        "    price TEXT,\n",
        "    hotel_facilities TEXT,\n",
        "    food TEXT,\n",
        "    sentiment TEXT,\n",
        "    nearby_places TEXT\n",
        "    '''\n",
        "\n",
        "    # Check if the table already exists\n",
        "    c.execute(f\"SELECT name FROM sqlite_master WHERE type='table' AND name='{table_name}'\")\n",
        "    if c.fetchone() is None:\n",
        "        # Create table\n",
        "        c.execute(f\"CREATE TABLE {table_name} ({columns})\")\n",
        "\n",
        "    # Commit the transaction and close the connection\n",
        "    conn.commit()\n",
        "    conn.close()"
      ],
      "metadata": {
        "id": "DIz-StMbMlNj"
      },
      "execution_count": 19,
      "outputs": []
    },
    {
      "cell_type": "code",
      "source": [
        "initialize_db()"
      ],
      "metadata": {
        "id": "9VrtBBSNe4hd"
      },
      "execution_count": 20,
      "outputs": []
    },
    {
      "cell_type": "markdown",
      "source": [
        "# Tool to add data in the database"
      ],
      "metadata": {
        "id": "8ir4Omnfe_38"
      }
    },
    {
      "cell_type": "code",
      "source": [
        "from dataclasses import dataclass, fields\n",
        "\n",
        "def update_db(results: List[Record]):\n",
        "    \"\"\"\n",
        "    Registers the information\n",
        "    \"\"\"\n",
        "    import sqlite3\n",
        "    from sqlite3 import ProgrammingError\n",
        "\n",
        "    # Connect to SQLite db\n",
        "    conn = sqlite3.connect(\"tripadvisor.db\")\n",
        "    c = conn.cursor()\n",
        "\n",
        "    # Table name\n",
        "    table_name = \"reviews\"\n",
        "\n",
        "    # Insert records\n",
        "    column_names = \"destination, price, hotel_facilities, food, sentiment, nearby_places\"\n",
        "    placeholders = \", \".join([\"?\"] * 6)\n",
        "\n",
        "    sql = f\"INSERT INTO {table_name} ({column_names}) VALUES ({placeholders})\"\n",
        "\n",
        "    for record in results:\n",
        "        values = tuple(\n",
        "            \",\".join(getattr(record, field.name)) if isinstance(getattr(record, field.name), list)\n",
        "            else getattr(record, field.name)\n",
        "            for field in fields(record)\n",
        "        )\n",
        "        try:\n",
        "            c.execute(sql, values)\n",
        "        except ProgrammingError:\n",
        "            print(\"Error with record.\")\n",
        "            pass\n",
        "\n",
        "    # Commit the transaction and close the connection\n",
        "    conn.commit()\n",
        "    conn.close()"
      ],
      "metadata": {
        "id": "UQyp4pu0e8oD"
      },
      "execution_count": 34,
      "outputs": []
    },
    {
      "cell_type": "code",
      "source": [
        "sample_record = Record(destination=\"hawaii\", price=\"100/night\", hotel_facilities=[\"kitchen\", \"barbeque\", \"pool\", \"garage\", \"rooms\", \"parking\"], food=[\"fresh fish\"], sentiment=\"happy\", nearby_places=[\"beach\"])"
      ],
      "metadata": {
        "id": "CWvL9c8aiK8p"
      },
      "execution_count": 25,
      "outputs": []
    },
    {
      "cell_type": "code",
      "source": [
        "update_db([sample_record])"
      ],
      "metadata": {
        "id": "QUBIoH2bjkjI"
      },
      "execution_count": 26,
      "outputs": []
    },
    {
      "cell_type": "markdown",
      "source": [
        "# Tool to extract from the database"
      ],
      "metadata": {
        "id": "cErATMIzkHzU"
      }
    },
    {
      "cell_type": "code",
      "source": [
        "import sqlite3\n",
        "\n",
        "def execute_sql(sql: str):\n",
        "    \"\"\"\n",
        "    Runs the SQL code for the given schema. Make sure to properly leverage the schema to answer the user's question in the best way possible.\n",
        "    \"\"\"\n",
        "    table_name = \"reviews\"\n",
        "\n",
        "    # Connect to SQLite db\n",
        "    conn = sqlite3.connect(\"tripadvisor.db\")\n",
        "    c = conn.cursor()\n",
        "\n",
        "    # Execute the SQL query\n",
        "    results = c.execute(sql).fetchall()\n",
        "\n",
        "    # Commit the transaction and close the connection\n",
        "    conn.commit()\n",
        "    conn.close()\n",
        "\n",
        "    return results"
      ],
      "metadata": {
        "id": "Ba0pjZdSjpoj"
      },
      "execution_count": 35,
      "outputs": []
    },
    {
      "cell_type": "code",
      "source": [
        "sql = '''SELECT * FROM reviews WHERE sentiment = \"happy\"'''\n",
        "\n",
        "print(\"Executing SQL: \", sql)\n",
        "\n",
        "execute_sql(sql)"
      ],
      "metadata": {
        "colab": {
          "base_uri": "https://localhost:8080/"
        },
        "id": "9Qwj4F6NkmTq",
        "outputId": "b182a853-e787-4781-f3e1-03137f1fc9e8"
      },
      "execution_count": 28,
      "outputs": [
        {
          "output_type": "stream",
          "name": "stdout",
          "text": [
            "Executing SQL:  SELECT * FROM reviews WHERE sentiment = \"happy\"\n"
          ]
        },
        {
          "output_type": "execute_result",
          "data": {
            "text/plain": [
              "[(1,\n",
              "  'hawaii',\n",
              "  '100/night',\n",
              "  'kitchen,barbeque,pool,garage,rooms,parking',\n",
              "  'fresh fish',\n",
              "  'happy',\n",
              "  'beach')]"
            ]
          },
          "metadata": {},
          "execution_count": 28
        }
      ]
    },
    {
      "cell_type": "markdown",
      "source": [
        "# Building the workflow"
      ],
      "metadata": {
        "id": "cMZlXo6vlI0-"
      }
    },
    {
      "cell_type": "code",
      "source": [
        "data = ds[\"train\"][\"text\"][3]\n",
        "data"
      ],
      "metadata": {
        "colab": {
          "base_uri": "https://localhost:8080/",
          "height": 89
        },
        "id": "56Ikv2Qdk2eV",
        "outputId": "14ff0e93-768f-4a59-d73d-c7f067526662"
      },
      "execution_count": 46,
      "outputs": [
        {
          "output_type": "execute_result",
          "data": {
            "text/plain": [
              "'great deal waikiki trip hawaii outrigger luana great hotel/condo, booked city view kitchenette, kitchen amenities ask, nice pool cabanas sun gets, barbeque area feel like getting fresh fish market highly recommended, staff friendly accommodating allowing access garage shower room 8 hours checked, 18/day parking little steep want explore life waikiki great hotel beginning main strip, tour desk not open probably went season desk touch tour desks outriggers waikiki happy make arrangements, beach minute walk away pay upwards 100/night right beach,  '"
            ],
            "application/vnd.google.colaboratory.intrinsic+json": {
              "type": "string"
            }
          },
          "metadata": {},
          "execution_count": 46
        }
      ]
    },
    {
      "cell_type": "code",
      "source": [
        "import inspect\n",
        "\n",
        "prompt = \"\\n\" + data\n",
        "\n",
        "sg = inspect.signature(update_db)\n",
        "sg = str(sg).replace(\"__main__.Record\", \"Record\")\n",
        "docstring = update_db.__doc__\n",
        "\n",
        "raven_prompt = f'''{dataclass_schema_representation}\\nFunction:\\n{update_db.__name__}{sg}:\\n   \"\"\"{docstring}\"\"\"\\n\\n\\nUser Query:{prompt}<human_end>'''\n",
        "print(raven_prompt)"
      ],
      "metadata": {
        "colab": {
          "base_uri": "https://localhost:8080/"
        },
        "id": "5dwMAqIslFuK",
        "outputId": "f7126a04-3433-45c8-9b02-2b18f02b00c9"
      },
      "execution_count": 47,
      "outputs": [
        {
          "output_type": "stream",
          "name": "stdout",
          "text": [
            "\n",
            "@dataclass\n",
            "class Record:\n",
            "    destination: str # Destination of the hotel if provided, else ''\n",
            "    price: str # Price of the hotel if provided, else ''\n",
            "    hotel_facilities: List[str] # Facilities provided by the hotel if provided, else ''\n",
            "    food: List[str] # Food provided by the hotel if provided, else ''\n",
            "    sentiment: str # Overall customer sentiment, either 'frustrated' or 'happy'\n",
            "    nearby_places: List[str] # Nearby locations to visit if provided, else ''\n",
            "\n",
            "Function:\n",
            "update_db(results: List[Record]):\n",
            "   \"\"\"\n",
            "    Registers the information\n",
            "    \"\"\"\n",
            "\n",
            "\n",
            "User Query:\n",
            "great deal waikiki trip hawaii outrigger luana great hotel/condo, booked city view kitchenette, kitchen amenities ask, nice pool cabanas sun gets, barbeque area feel like getting fresh fish market highly recommended, staff friendly accommodating allowing access garage shower room 8 hours checked, 18/day parking little steep want explore life waikiki great hotel beginning main strip, tour desk not open probably went season desk touch tour desks outriggers waikiki happy make arrangements, beach minute walk away pay upwards 100/night right beach,  <human_end>\n"
          ]
        }
      ]
    },
    {
      "cell_type": "code",
      "source": [
        "raven_call = query_raven(raven_prompt)\n",
        "print(raven_call)"
      ],
      "metadata": {
        "colab": {
          "base_uri": "https://localhost:8080/"
        },
        "id": "tUTLkwYfmNTu",
        "outputId": "68710f0c-657b-495d-9cc0-ecbaded17827"
      },
      "execution_count": 48,
      "outputs": [
        {
          "output_type": "stream",
          "name": "stdout",
          "text": [
            "update_db(results=[])\n"
          ]
        }
      ]
    },
    {
      "cell_type": "code",
      "source": [
        "exec(raven_call)"
      ],
      "metadata": {
        "id": "rF2pBSB_nAob"
      },
      "execution_count": 49,
      "outputs": []
    },
    {
      "cell_type": "code",
      "source": [
        "prompt = \"how many reviews are there where customers are happy\"\n",
        "\n",
        "sig = inspect.signature(execute_sql)\n",
        "\n",
        "docstring = execute_sql.__doc__\n",
        "\n",
        "sql_schema_representation = \\\n",
        "\"\"\"\n",
        "CREATE TABLE reviews (\n",
        "    id INTEGER PRIMARY KEY,\n",
        "    destination TEXT,\n",
        "    price TEXT,\n",
        "    hotel_facilities TEXT,\n",
        "    food TEXT,\n",
        "    sentiment TEXT,\n",
        "    nearby_places TEXT\n",
        ")\n",
        "\"\"\"\n",
        "\n",
        "raven_prompt = f'''{sql_schema_representation}\\nFunction:\\n{execute_sql.__name__}{sig}:\\n   \"\"\"{docstring}\"\"\"\\n\\n\\nUser Query:{prompt}<human_end>'''\n",
        "\n",
        "print(raven_prompt)"
      ],
      "metadata": {
        "colab": {
          "base_uri": "https://localhost:8080/"
        },
        "id": "eOdCUMRQnIxr",
        "outputId": "1d7baad1-551a-4782-f6cd-2095e9c61d67"
      },
      "execution_count": 70,
      "outputs": [
        {
          "output_type": "stream",
          "name": "stdout",
          "text": [
            "\n",
            "CREATE TABLE reviews (\n",
            "    id INTEGER PRIMARY KEY,\n",
            "    destination TEXT,\n",
            "    price TEXT,\n",
            "    hotel_facilities TEXT,\n",
            "    food TEXT,\n",
            "    sentiment TEXT,\n",
            "    nearby_places TEXT,\n",
            ")\n",
            "\n",
            "Function:\n",
            "execute_sql(sql: str):\n",
            "   \"\"\"\n",
            "    Runs the SQL code for the given schema. Make sure to properly leverage the schema to answer the user's question in the best way possible.\n",
            "    \"\"\"\n",
            "\n",
            "\n",
            "User Query:how many reviews are there where customers are happy<human_end>\n"
          ]
        }
      ]
    },
    {
      "cell_type": "code",
      "source": [
        "raven_call = query_raven(raven_prompt)\n",
        "print(raven_call)"
      ],
      "metadata": {
        "colab": {
          "base_uri": "https://localhost:8080/"
        },
        "id": "jLi4BB-cnwNP",
        "outputId": "db44bbb8-423a-4ab6-a7f5-6c2a89685206"
      },
      "execution_count": 71,
      "outputs": [
        {
          "output_type": "stream",
          "name": "stdout",
          "text": [
            "execute_sql(sql='SELECT COUNT(*) FROM reviews WHERE sentiment = \"happy\"')\n"
          ]
        }
      ]
    },
    {
      "cell_type": "code",
      "source": [
        "eval(raven_call)"
      ],
      "metadata": {
        "colab": {
          "base_uri": "https://localhost:8080/"
        },
        "id": "G3cICJEEn0AP",
        "outputId": "fa56b2f5-01a4-4ac8-d554-34292a5628b9"
      },
      "execution_count": 72,
      "outputs": [
        {
          "output_type": "execute_result",
          "data": {
            "text/plain": [
              "[(6,)]"
            ]
          },
          "metadata": {},
          "execution_count": 72
        }
      ]
    },
    {
      "cell_type": "markdown",
      "source": [
        "# Let's re-initialize and run the workflow"
      ],
      "metadata": {
        "id": "za_AXm-PtblL"
      }
    },
    {
      "cell_type": "code",
      "source": [
        "!rm tripadvisor.db\n",
        "initialize_db()"
      ],
      "metadata": {
        "id": "e9_BS7lfn2IV"
      },
      "execution_count": 77,
      "outputs": []
    },
    {
      "cell_type": "code",
      "source": [
        "from tqdm import tqdm\n",
        "\n",
        "# Taking data points\n",
        "data = ds[\"train\"][\"text\"][:30]\n",
        "\n",
        "for i in tqdm(range(0, 30)):\n",
        "\n",
        "    # Ask raven to extract information we want out of the review\n",
        "    raven_prompt = \"\\n\" + data[i]\n",
        "    sig = inspect.signature(update_db)\n",
        "    docstring = update_db.__doc__\n",
        "    raven_prompt = f'''{dataclass_schema_representation}\\nFunction:\\n{update_db.__name__}{sig}:\\n   \"\"\"{docstring}\"\"\"\\n\\n\\nUser Query:{raven_prompt}<human_end>'''\n",
        "    raven_call = query_raven(raven_prompt)\n",
        "    exec(raven_call)"
      ],
      "metadata": {
        "colab": {
          "base_uri": "https://localhost:8080/"
        },
        "id": "CAecH4d4oSvJ",
        "outputId": "976c5e5b-5fe6-4784-f99d-c4ed9089ac97"
      },
      "execution_count": 78,
      "outputs": [
        {
          "output_type": "stream",
          "name": "stderr",
          "text": [
            "100%|██████████| 30/30 [00:31<00:00,  1.05s/it]\n"
          ]
        }
      ]
    },
    {
      "cell_type": "code",
      "source": [
        "sig = inspect.signature(execute_sql)\n",
        "docstring = execute_sql.__doc__\n",
        "sql_schema_representation = \\\n",
        "\"\"\"\n",
        "CREATE TABLE reviews (\n",
        "    id INTEGER PRIMARY KEY,\n",
        "    destination TEXT,\n",
        "    price TEXT,\n",
        "    hotel_facilities TEXT,\n",
        "    food TEXT,\n",
        "    sentiment TEXT,\n",
        "    nearby_places TEXT\n",
        ")\n",
        "\"\"\"\n",
        "\n",
        "raven_prompt = f'''{sql_schema_representation}\\nFunction:\\n{execute_sql.__name__}{sig}:\\n   \"\"\"{docstring}\"\"\"\\n\\n\\nUser Query:{prompt}<human_end>'''\n",
        "raven_prompt = raven_prompt + \"User Query: How many frustrated customers?<human_end>\"\n",
        "print(raven_prompt)\n",
        "\n",
        "raven_call = query_raven(raven_prompt)\n",
        "print(raven_call)\n",
        "\n",
        "eval(raven_call)"
      ],
      "metadata": {
        "colab": {
          "base_uri": "https://localhost:8080/"
        },
        "id": "EccRrvs4pScM",
        "outputId": "f38bd1d4-103a-42cc-b9d8-9964815b9858"
      },
      "execution_count": 82,
      "outputs": [
        {
          "output_type": "stream",
          "name": "stdout",
          "text": [
            "\n",
            "CREATE TABLE reviews (\n",
            "    id INTEGER PRIMARY KEY,\n",
            "    destination TEXT,\n",
            "    price TEXT,\n",
            "    hotel_facilities TEXT,\n",
            "    food TEXT,\n",
            "    sentiment TEXT,\n",
            "    nearby_places TEXT\n",
            ")\n",
            "\n",
            "Function:\n",
            "execute_sql(sql: str):\n",
            "   \"\"\"\n",
            "    Runs the SQL code for the given schema. Make sure to properly leverage the schema to answer the user's question in the best way possible.\n",
            "    \"\"\"\n",
            "\n",
            "\n",
            "User Query:how many reviews are there where customers are happy<human_end>User Query: How many frustrated customers?<human_end>\n",
            "execute_sql(sql='SELECT COUNT(*) FROM reviews WHERE sentiment = \"frustrated\";')\n"
          ]
        },
        {
          "output_type": "execute_result",
          "data": {
            "text/plain": [
              "[(2,)]"
            ]
          },
          "metadata": {},
          "execution_count": 82
        }
      ]
    },
    {
      "cell_type": "code",
      "source": [
        "raven_prompt = f'''{sql_schema_representation}\\nFunction:\\n{execute_sql.__name__}{sig}:\\n   \"\"\"{docstring}\"\"\"\\n\\n\\nUser Query:{prompt}<human_end>'''\n",
        "raven_prompt = raven_prompt + \"User Query: Give me all the destination names and the facilites these hotels provide where customers are frustrated?<human_end>\"\n",
        "print(raven_prompt)\n",
        "\n",
        "raven_call = query_raven(raven_prompt)\n",
        "print(raven_call)\n",
        "\n",
        "eval(raven_call)"
      ],
      "metadata": {
        "colab": {
          "base_uri": "https://localhost:8080/"
        },
        "id": "nGyHM8Mypthp",
        "outputId": "57df4d87-ab03-449d-c067-43f9fb8bfac1"
      },
      "execution_count": 85,
      "outputs": [
        {
          "output_type": "stream",
          "name": "stdout",
          "text": [
            "\n",
            "CREATE TABLE reviews (\n",
            "    id INTEGER PRIMARY KEY,\n",
            "    destination TEXT,\n",
            "    price TEXT,\n",
            "    hotel_facilities TEXT,\n",
            "    food TEXT,\n",
            "    sentiment TEXT,\n",
            "    nearby_places TEXT\n",
            ")\n",
            "\n",
            "Function:\n",
            "execute_sql(sql: str):\n",
            "   \"\"\"\n",
            "    Runs the SQL code for the given schema. Make sure to properly leverage the schema to answer the user's question in the best way possible.\n",
            "    \"\"\"\n",
            "\n",
            "\n",
            "User Query:how many reviews are there where customers are happy<human_end>User Query: Give me all the destination names and the facilites these hotels provide where customers are frustrated?<human_end>\n",
            "execute_sql(sql='SELECT destination, hotel_facilities FROM reviews WHERE sentiment = \"frustrated\";')\n"
          ]
        },
        {
          "output_type": "execute_result",
          "data": {
            "text/plain": [
              "[('airport hotel',\n",
              "  'triparound,australia,arrived,place,rudest,receptionist,corridors,room,looked,like,bombsite,no,warning,room,mid,decoration'),\n",
              " ('', '')]"
            ]
          },
          "metadata": {},
          "execution_count": 85
        }
      ]
    },
    {
      "cell_type": "code",
      "source": [],
      "metadata": {
        "id": "xBkqEV-6qiGi"
      },
      "execution_count": null,
      "outputs": []
    }
  ]
}