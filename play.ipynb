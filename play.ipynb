{
  "nbformat": 4,
  "nbformat_minor": 0,
  "metadata": {
    "colab": {
      "provenance": []
    },
    "kernelspec": {
      "name": "python3",
      "display_name": "Python 3"
    },
    "language_info": {
      "name": "python"
    }
  },
  "cells": [
    {
      "cell_type": "markdown",
      "source": [
        "# Reviews Processing System"
      ],
      "metadata": {
        "id": "8L3fYhfWR4cx"
      }
    },
    {
      "cell_type": "markdown",
      "source": [
        "We use function calling to chat with the database"
      ],
      "metadata": {
        "id": "mzFG0KTQR4JU"
      }
    },
    {
      "cell_type": "code",
      "source": [
        "!pip install datasets -q"
      ],
      "metadata": {
        "id": "os3cuWxb3MO8"
      },
      "execution_count": 62,
      "outputs": []
    },
    {
      "cell_type": "markdown",
      "source": [
        "## Getting the dataset"
      ],
      "metadata": {
        "id": "99uRrpDyMpMp"
      }
    },
    {
      "cell_type": "code",
      "execution_count": 64,
      "metadata": {
        "id": "fO2cPo8XH7Qz"
      },
      "outputs": [],
      "source": [
        "from datasets import load_dataset\n",
        "\n",
        "ds = load_dataset(\"argilla/tripadvisor-hotel-reviews\")"
      ]
    },
    {
      "cell_type": "code",
      "source": [
        "sample_data = ds[\"train\"][\"text\"][5]"
      ],
      "metadata": {
        "id": "8OiFM1gMH_LV"
      },
      "execution_count": 65,
      "outputs": []
    },
    {
      "cell_type": "code",
      "source": [
        "sample_data"
      ],
      "metadata": {
        "colab": {
          "base_uri": "https://localhost:8080/",
          "height": 86
        },
        "id": "3oKGx7WrImNg",
        "outputId": "73bddd46-860a-4157-b774-1dc5f685fb15"
      },
      "execution_count": 66,
      "outputs": [
        {
          "output_type": "execute_result",
          "data": {
            "text/plain": [
              "\"best hotel stayed picked hotel casablanca based recommendations tripadvisor not disappointed, location good staff extremely friendly helpful rooms reasonable size clean equipped peaceful spite bustling location breakfast delicious continental better normally come expect term, best feeling tranquility busy day town return oasis calm enjoy delicious hazelnut coffee buns head room freshen coming later cheese prosecco sound piano music background.ok n't exactly cheap, new york, stayed expensive luxury hotels felt mightily ripped, not time- definitely casablanca,  \""
            ],
            "application/vnd.google.colaboratory.intrinsic+json": {
              "type": "string"
            }
          },
          "metadata": {},
          "execution_count": 66
        }
      ]
    },
    {
      "cell_type": "markdown",
      "source": [
        "## Building prompt"
      ],
      "metadata": {
        "id": "4grfi_SNc6fm"
      }
    },
    {
      "cell_type": "code",
      "source": [
        "import requests\n",
        "\n",
        "API_URL = \"http://nexusraven.nexusflow.ai\"\n",
        "\n",
        "headers = {\n",
        "    \"Content-Type\": \"application/json\"\n",
        "}\n",
        "\n",
        "def query(payload):\n",
        "    response = requests.post(API_URL, json=payload, headers=headers)\n",
        "    return response.json()\n",
        "\n",
        "def query_raven(prompt):\n",
        "    payload = {\n",
        "        \"inputs\": prompt,\n",
        "        \"parameters\": {\"do_sample\": True, \"temperature\": 0.001, \"max_new_tokens\": 400, \"stop\": [\"<bot_end>\", \"Thought:\"], \"return_full_text\": False}\n",
        "    }\n",
        "    return query(payload)[0][\"generated_text\"].replace(\"Call:\", \"\").replace(\"Thought:\", \"\").strip()"
      ],
      "metadata": {
        "id": "qE8_Yfelc-DQ"
      },
      "execution_count": 68,
      "outputs": []
    },
    {
      "cell_type": "markdown",
      "source": [
        "## Defining what's important"
      ],
      "metadata": {
        "id": "OjpLReaNMsst"
      }
    },
    {
      "cell_type": "code",
      "source": [
        "from typing import List\n",
        "from dataclasses import dataclass"
      ],
      "metadata": {
        "id": "Z1z1TuLPKmOY"
      },
      "execution_count": 69,
      "outputs": []
    },
    {
      "cell_type": "code",
      "source": [
        "schema_id = {\"hotel_name\", \"location\", \"likes\", \"dislikes\", \"sentiment\"}"
      ],
      "metadata": {
        "id": "vfuMd-UWLMYb"
      },
      "execution_count": 70,
      "outputs": []
    },
    {
      "cell_type": "code",
      "source": [
        "dataclass_schema_representation = '''\n",
        "@dataclass\n",
        "class Record:\n",
        "    hotel_name: str # Name of the hotel if provided, else ''\n",
        "    location: str # Location of the hotel if provided, else ''\n",
        "    likes: str # What the customers liked about the hotel if provided, else ''\n",
        "    dislikes: str # What the customers disliked about the hotel if provided, else ''\n",
        "    sentiment: str # Overall customer sentiment, either 'frustrated' or 'happy'\n",
        "'''"
      ],
      "metadata": {
        "id": "Nlg_Nlf9Lr9F"
      },
      "execution_count": 71,
      "outputs": []
    },
    {
      "cell_type": "code",
      "source": [
        "exec(dataclass_schema_representation)"
      ],
      "metadata": {
        "id": "9bV7cyPVMjAi"
      },
      "execution_count": 72,
      "outputs": []
    },
    {
      "cell_type": "markdown",
      "source": [
        "## Building the database"
      ],
      "metadata": {
        "id": "M3cGtskIM2FG"
      }
    },
    {
      "cell_type": "code",
      "source": [
        "def initialize_db():\n",
        "    import sqlite3\n",
        "\n",
        "    # Connect to SQLite db\n",
        "    conn = sqlite3.connect(\"tripadvisor.db\")\n",
        "    c = conn.cursor()\n",
        "\n",
        "    # Table name\n",
        "    table_name = \"reviews\"\n",
        "\n",
        "    # Schema\n",
        "    columns = '''\n",
        "        id INTEGER PRIMARY KEY,\n",
        "        hotel_name TEXT,\n",
        "        location TEXT,\n",
        "        likes TEXT,\n",
        "        dislikes TEXT,\n",
        "        sentiment TEXT\n",
        "    '''\n",
        "\n",
        "    # Check if the table already exists\n",
        "    c.execute(f\"SELECT * FROM sqlite_master WHERE type='table' AND name='{table_name}'\")\n",
        "    if c.fetchone() is None:\n",
        "        # Create table\n",
        "        c.execute(f\"CREATE TABLE {table_name} ({columns})\")\n",
        "\n",
        "    # Commit the transaction and close the connection\n",
        "    conn.commit()\n",
        "    conn.close()"
      ],
      "metadata": {
        "id": "DIz-StMbMlNj"
      },
      "execution_count": 75,
      "outputs": []
    },
    {
      "cell_type": "code",
      "source": [
        "initialize_db()"
      ],
      "metadata": {
        "id": "9VrtBBSNe4hd"
      },
      "execution_count": 76,
      "outputs": []
    },
    {
      "cell_type": "markdown",
      "source": [
        "## Create a tool to add data in the database"
      ],
      "metadata": {
        "id": "8ir4Omnfe_38"
      }
    },
    {
      "cell_type": "code",
      "source": [
        "from dataclasses import dataclass, fields\n",
        "\n",
        "def update_db(results: List[Record]):\n",
        "    \"\"\"\n",
        "    Registers the information\n",
        "    \"\"\"\n",
        "    import sqlite3\n",
        "    from sqlite3 import ProgrammingError\n",
        "\n",
        "    # Connect to SQLite db\n",
        "    conn = sqlite3.connect(\"tripadvisor.db\")\n",
        "    c = conn.cursor()\n",
        "\n",
        "    # Table name\n",
        "    table_name = \"reviews\"\n",
        "\n",
        "    # Insert records\n",
        "    column_names = \"hotel_name, location, likes, dislikes, sentiment\"\n",
        "    placeholders = \", \".join([\"?\"] * 5)\n",
        "\n",
        "    sql = f\"INSERT INTO {table_name} ({column_names}) VALUES ({placeholders})\"\n",
        "\n",
        "    for record in results:\n",
        "        try:\n",
        "            values = tuple(getattr(record, field.name) for field in fields(record))\n",
        "            print(values)\n",
        "            c.execute(sql, values)\n",
        "        except ProgrammingError:\n",
        "            print(\"Error with record.\")\n",
        "            pass\n",
        "\n",
        "    # Commit the transaction and close the connection\n",
        "    conn.commit()\n",
        "    conn.close()"
      ],
      "metadata": {
        "id": "UQyp4pu0e8oD"
      },
      "execution_count": 77,
      "outputs": []
    },
    {
      "cell_type": "code",
      "source": [
        "sample_record = Record(hotel_name=\"hotel casablanca\", location=\"new york\", likes=\"staff extremely friendly helpful rooms reasonable size clean\", dislikes=\"\", sentiment=\"happy\")"
      ],
      "metadata": {
        "id": "CWvL9c8aiK8p"
      },
      "execution_count": 78,
      "outputs": []
    },
    {
      "cell_type": "code",
      "source": [
        "update_db([sample_record])"
      ],
      "metadata": {
        "id": "QUBIoH2bjkjI",
        "colab": {
          "base_uri": "https://localhost:8080/"
        },
        "outputId": "8ac0814f-b5b7-4493-a598-ed26a4395d31"
      },
      "execution_count": 79,
      "outputs": [
        {
          "output_type": "stream",
          "name": "stdout",
          "text": [
            "('hotel casablanca', 'new york', 'staff extremely friendly helpful rooms reasonable size clean', '', 'happy')\n"
          ]
        }
      ]
    },
    {
      "cell_type": "markdown",
      "source": [
        "## Create a tool to extract information from the database"
      ],
      "metadata": {
        "id": "cErATMIzkHzU"
      }
    },
    {
      "cell_type": "code",
      "source": [
        "import sqlite3\n",
        "\n",
        "def execute_sql(sql: str):\n",
        "    \"\"\"\n",
        "    Runs the SQL code for the given schema. Make sure to properly leverage the schema to answer the user's question in the best way possible.\n",
        "    \"\"\"\n",
        "    table_name = \"reviews\"\n",
        "\n",
        "    # Connect to SQLite db\n",
        "    conn = sqlite3.connect(\"tripadvisor.db\")\n",
        "    c = conn.cursor()\n",
        "\n",
        "    # Execute the SQL query\n",
        "    results = c.execute(sql).fetchall()\n",
        "\n",
        "    # Commit the transaction and close the connection\n",
        "    conn.commit()\n",
        "    conn.close()\n",
        "\n",
        "    return results"
      ],
      "metadata": {
        "id": "Ba0pjZdSjpoj"
      },
      "execution_count": 80,
      "outputs": []
    },
    {
      "cell_type": "code",
      "source": [
        "sql = '''SELECT * FROM reviews WHERE sentiment = \"happy\"'''\n",
        "\n",
        "print(\"Executing SQL: \", sql)\n",
        "\n",
        "execute_sql(sql)"
      ],
      "metadata": {
        "colab": {
          "base_uri": "https://localhost:8080/"
        },
        "id": "9Qwj4F6NkmTq",
        "outputId": "0e1d6db3-4244-44ed-ed01-be7432096ddb"
      },
      "execution_count": 81,
      "outputs": [
        {
          "output_type": "stream",
          "name": "stdout",
          "text": [
            "Executing SQL:  SELECT * FROM reviews WHERE sentiment = \"happy\"\n"
          ]
        },
        {
          "output_type": "execute_result",
          "data": {
            "text/plain": [
              "[(1,\n",
              "  'hotel casablanca',\n",
              "  'new york',\n",
              "  'staff extremely friendly helpful rooms reasonable size clean',\n",
              "  '',\n",
              "  'happy')]"
            ]
          },
          "metadata": {},
          "execution_count": 81
        }
      ]
    },
    {
      "cell_type": "markdown",
      "source": [
        "## Building the pipeline"
      ],
      "metadata": {
        "id": "cMZlXo6vlI0-"
      }
    },
    {
      "cell_type": "code",
      "source": [
        "data = ds[\"train\"][\"text\"][3]\n",
        "data"
      ],
      "metadata": {
        "colab": {
          "base_uri": "https://localhost:8080/",
          "height": 86
        },
        "id": "56Ikv2Qdk2eV",
        "outputId": "f62ce270-c24f-4a15-8399-d78ce4a69094"
      },
      "execution_count": 82,
      "outputs": [
        {
          "output_type": "execute_result",
          "data": {
            "text/plain": [
              "'great deal waikiki trip hawaii outrigger luana great hotel/condo, booked city view kitchenette, kitchen amenities ask, nice pool cabanas sun gets, barbeque area feel like getting fresh fish market highly recommended, staff friendly accommodating allowing access garage shower room 8 hours checked, 18/day parking little steep want explore life waikiki great hotel beginning main strip, tour desk not open probably went season desk touch tour desks outriggers waikiki happy make arrangements, beach minute walk away pay upwards 100/night right beach,  '"
            ],
            "application/vnd.google.colaboratory.intrinsic+json": {
              "type": "string"
            }
          },
          "metadata": {},
          "execution_count": 82
        }
      ]
    },
    {
      "cell_type": "code",
      "source": [
        "import inspect\n",
        "\n",
        "prompt = \"\\n\" + data\n",
        "\n",
        "signature = inspect.signature(update_db)\n",
        "signature = str(signature).replace(\"__main__.Record\", \"Record\")\n",
        "docstring = update_db.__doc__\n",
        "\n",
        "raven_prompt = f'''{dataclass_schema_representation}\\nFunction:\\n{update_db.__name__}{signature}:\\n   \"\"\"{docstring}\"\"\"\\n\\n\\nUser Query:{prompt}<human_end>'''\n",
        "print(raven_prompt)"
      ],
      "metadata": {
        "colab": {
          "base_uri": "https://localhost:8080/"
        },
        "id": "5dwMAqIslFuK",
        "outputId": "7c97fa6d-a87b-44eb-d21e-d321db4e4970"
      },
      "execution_count": 83,
      "outputs": [
        {
          "output_type": "stream",
          "name": "stdout",
          "text": [
            "\n",
            "@dataclass\n",
            "class Record:\n",
            "    hotel_name: str # Name of the hotel if provided, else ''\n",
            "    location: str # Location of the hotel if provided, else ''\n",
            "    likes: str # What the customers liked about the hotel if provided, else ''\n",
            "    dislikes: str # What the customers disliked about the hotel if provided, else ''\n",
            "    sentiment: str # Overall customer sentiment, either 'frustrated' or 'happy'\n",
            "\n",
            "Function:\n",
            "update_db(results: List[Record]):\n",
            "   \"\"\"\n",
            "    Registers the information\n",
            "    \"\"\"\n",
            "\n",
            "\n",
            "User Query:\n",
            "great deal waikiki trip hawaii outrigger luana great hotel/condo, booked city view kitchenette, kitchen amenities ask, nice pool cabanas sun gets, barbeque area feel like getting fresh fish market highly recommended, staff friendly accommodating allowing access garage shower room 8 hours checked, 18/day parking little steep want explore life waikiki great hotel beginning main strip, tour desk not open probably went season desk touch tour desks outriggers waikiki happy make arrangements, beach minute walk away pay upwards 100/night right beach,  <human_end>\n"
          ]
        }
      ]
    },
    {
      "cell_type": "code",
      "source": [
        "raven_call = query_raven(raven_prompt)\n",
        "print(raven_call)"
      ],
      "metadata": {
        "colab": {
          "base_uri": "https://localhost:8080/"
        },
        "id": "tUTLkwYfmNTu",
        "outputId": "40987aa7-7d26-4b22-df0f-a00e2e7b3776"
      },
      "execution_count": 84,
      "outputs": [
        {
          "output_type": "stream",
          "name": "stdout",
          "text": [
            "update_db(results=[])\n"
          ]
        }
      ]
    },
    {
      "cell_type": "code",
      "source": [
        "exec(raven_call)"
      ],
      "metadata": {
        "id": "rF2pBSB_nAob"
      },
      "execution_count": 85,
      "outputs": []
    },
    {
      "cell_type": "code",
      "source": [
        "prompt = \"how many reviews are there where customers are happy\"\n",
        "\n",
        "signature = inspect.signature(execute_sql)\n",
        "\n",
        "docstring = execute_sql.__doc__\n",
        "\n",
        "sql_schema_representation = \\\n",
        "\"\"\"\n",
        "CREATE TABLE reviews (\n",
        "    id INTEGER PROMARY KEY,\n",
        "    hotel_name TEXT,\n",
        "    location TEXT,\n",
        "    likes TEXT,\n",
        "    dislikes TEXT,\n",
        "    sentiment TEXT\n",
        ")\n",
        "\"\"\"\n",
        "\n",
        "raven_prompt = f'''{sql_schema_representation}\\nFunction:\\n{execute_sql.__name__}{signature}:\\n   \"\"\"{docstring}\"\"\"\\n\\n\\nUser Query:{prompt}<human_end>'''\n",
        "\n",
        "print(raven_prompt)"
      ],
      "metadata": {
        "colab": {
          "base_uri": "https://localhost:8080/"
        },
        "id": "eOdCUMRQnIxr",
        "outputId": "00f6ac58-2c27-4b90-af04-841944d3d2d0"
      },
      "execution_count": 86,
      "outputs": [
        {
          "output_type": "stream",
          "name": "stdout",
          "text": [
            "\n",
            "CREATE TABLE reviews (\n",
            "    id INTEGER PROMARY KEY,\n",
            "    hotel_name TEXT,\n",
            "    location TEXT,\n",
            "    likes TEXT,\n",
            "    dislikes TEXT,\n",
            "    sentiment TEXT\n",
            ")\n",
            "\n",
            "Function:\n",
            "execute_sql(sql: str):\n",
            "   \"\"\"\n",
            "    Runs the SQL code for the given schema. Make sure to properly leverage the schema to answer the user's question in the best way possible.\n",
            "    \"\"\"\n",
            "\n",
            "\n",
            "User Query:how many reviews are there where customers are happy<human_end>\n"
          ]
        }
      ]
    },
    {
      "cell_type": "code",
      "source": [
        "raven_call = query_raven(raven_prompt)\n",
        "print(raven_call)"
      ],
      "metadata": {
        "colab": {
          "base_uri": "https://localhost:8080/"
        },
        "id": "jLi4BB-cnwNP",
        "outputId": "53d9980f-9ca3-4f0a-a48e-97ff661d58ef"
      },
      "execution_count": 87,
      "outputs": [
        {
          "output_type": "stream",
          "name": "stdout",
          "text": [
            "execute_sql(sql='SELECT COUNT(*) FROM reviews WHERE sentiment = \"happy\"')\n"
          ]
        }
      ]
    },
    {
      "cell_type": "code",
      "source": [
        "eval(raven_call)"
      ],
      "metadata": {
        "colab": {
          "base_uri": "https://localhost:8080/"
        },
        "id": "G3cICJEEn0AP",
        "outputId": "f33db985-e59b-44ad-b164-f5967d47a1ac"
      },
      "execution_count": 88,
      "outputs": [
        {
          "output_type": "execute_result",
          "data": {
            "text/plain": [
              "[(1,)]"
            ]
          },
          "metadata": {},
          "execution_count": 88
        }
      ]
    },
    {
      "cell_type": "markdown",
      "source": [
        "## Let's re-initialize and run the workflow"
      ],
      "metadata": {
        "id": "za_AXm-PtblL"
      }
    },
    {
      "cell_type": "code",
      "source": [
        "!rm tripadvisor.db\n",
        "initialize_db()"
      ],
      "metadata": {
        "id": "e9_BS7lfn2IV"
      },
      "execution_count": 98,
      "outputs": []
    },
    {
      "cell_type": "code",
      "source": [
        "from tqdm import tqdm\n",
        "\n",
        "# Taking data points\n",
        "data = ds[\"train\"][\"text\"][10:40]\n",
        "\n",
        "for i in tqdm(range(0, 10)):\n",
        "\n",
        "    # Ask raven to extract information we want out of the review\n",
        "    raven_prompt = \"\\n\" + data[i]\n",
        "    signature = inspect.signature(update_db)\n",
        "    docstring = update_db.__doc__\n",
        "    raven_prompt = f'''{dataclass_schema_representation}\\nFunction:\\n{update_db.__name__}{signature}:\\n   \"\"\"{docstring}\"\"\"\\n\\n\\nUser Query:{raven_prompt}<human_end>'''\n",
        "\n",
        "    raven_call = query_raven(raven_prompt)\n",
        "    exec(raven_call)"
      ],
      "metadata": {
        "colab": {
          "base_uri": "https://localhost:8080/"
        },
        "id": "CAecH4d4oSvJ",
        "outputId": "b85d5419-9619-4bdd-cfcf-2c4045276250"
      },
      "execution_count": 99,
      "outputs": [
        {
          "output_type": "stream",
          "name": "stderr",
          "text": [
            " 10%|█         | 1/10 [00:01<00:09,  1.11s/it]"
          ]
        },
        {
          "output_type": "stream",
          "name": "stdout",
          "text": [
            "('excellent', 'beginning august', 'good value', 'expensive bar', 'happy')\n"
          ]
        },
        {
          "output_type": "stream",
          "name": "stderr",
          "text": [
            "\r 20%|██        | 2/10 [00:01<00:07,  1.04it/s]"
          ]
        },
        {
          "output_type": "stream",
          "name": "stdout",
          "text": [
            "('', '', '', '', '')\n"
          ]
        },
        {
          "output_type": "stream",
          "name": "stderr",
          "text": [
            "\r 30%|███       | 3/10 [00:02<00:06,  1.06it/s]"
          ]
        },
        {
          "output_type": "stream",
          "name": "stdout",
          "text": [
            "('', '', '', '', '')\n"
          ]
        },
        {
          "output_type": "stream",
          "name": "stderr",
          "text": [
            " 70%|███████   | 7/10 [00:05<00:02,  1.42it/s]"
          ]
        },
        {
          "output_type": "stream",
          "name": "stdout",
          "text": [
            "('', '', '', '', '')\n"
          ]
        },
        {
          "output_type": "stream",
          "name": "stderr",
          "text": [
            "\r 80%|████████  | 8/10 [00:06<00:01,  1.08it/s]"
          ]
        },
        {
          "output_type": "stream",
          "name": "stdout",
          "text": [
            "('Florence', 'Rome', 'modern room, comfortable bathroom, good breakfast', 'late check-in, overcrowded lobby', 'happy')\n"
          ]
        },
        {
          "output_type": "stream",
          "name": "stderr",
          "text": [
            "\r 90%|█████████ | 9/10 [00:08<00:01,  1.04s/it]"
          ]
        },
        {
          "output_type": "stream",
          "name": "stdout",
          "text": [
            "('cambridge suites', 'sept 29-oct 3', 'wonderful', 'none', 'happy')\n"
          ]
        },
        {
          "output_type": "stream",
          "name": "stderr",
          "text": [
            "100%|██████████| 10/10 [00:08<00:00,  1.14it/s]\n"
          ]
        }
      ]
    },
    {
      "cell_type": "code",
      "source": [
        "signature = inspect.signature(execute_sql)\n",
        "docstring = execute_sql.__doc__\n",
        "sql_schema_representation = \\\n",
        "\"\"\"\n",
        "CREATE TABLE reviews (\n",
        "    id INTEGER PROMARY KEY,\n",
        "    hotel_name TEXT,\n",
        "    location TEXT,\n",
        "    likes TEXT,\n",
        "    dislikes TEXT,\n",
        "    sentiment TEXT\n",
        ")\n",
        "\"\"\"\n",
        "\n",
        "raven_prompt = f'''{sql_schema_representation}\\nFunction:\\n{execute_sql.__name__}{signature}:\\n   \"\"\"{docstring}\"\"\"\\n\\n\\nUser Query:{prompt}<human_end>'''\n",
        "raven_prompt = raven_prompt + \"User Query: How many arehappy customers?<human_end>\"\n",
        "print(raven_prompt)\n",
        "\n",
        "raven_call = query_raven(raven_prompt)\n",
        "print(raven_call)\n",
        "\n",
        "eval(raven_call)"
      ],
      "metadata": {
        "colab": {
          "base_uri": "https://localhost:8080/"
        },
        "id": "EccRrvs4pScM",
        "outputId": "f3b19dfa-e95d-49ef-e608-6e26482a12e5"
      },
      "execution_count": 100,
      "outputs": [
        {
          "output_type": "stream",
          "name": "stdout",
          "text": [
            "\n",
            "CREATE TABLE reviews (\n",
            "    id INTEGER PROMARY KEY,\n",
            "    hotel_name TEXT,\n",
            "    location TEXT,\n",
            "    likes TEXT,\n",
            "    dislikes TEXT,\n",
            "    sentiment TEXT\n",
            ")\n",
            "\n",
            "Function:\n",
            "execute_sql(sql: str):\n",
            "   \"\"\"\n",
            "    Runs the SQL code for the given schema. Make sure to properly leverage the schema to answer the user's question in the best way possible.\n",
            "    \"\"\"\n",
            "\n",
            "\n",
            "User Query:how many reviews are there where customers are happy<human_end>User Query: How many arehappy customers?<human_end>\n",
            "execute_sql(sql='SELECT COUNT(*) FROM reviews WHERE sentiment = \"happy\"')\n"
          ]
        },
        {
          "output_type": "execute_result",
          "data": {
            "text/plain": [
              "[(3,)]"
            ]
          },
          "metadata": {},
          "execution_count": 100
        }
      ]
    },
    {
      "cell_type": "code",
      "source": [
        "raven_prompt = f'''{sql_schema_representation}\\nFunction:\\n{execute_sql.__name__}{signature}:\\n   \"\"\"{docstring}\"\"\"\\n\\n\\nUser Query:{prompt}<human_end>'''\n",
        "raven_prompt = raven_prompt + \"User Query: Give me a list of hotel names where customers are happy?<human_end>\"\n",
        "print(raven_prompt)\n",
        "\n",
        "raven_call = query_raven(raven_prompt)\n",
        "print(raven_call)\n",
        "\n",
        "eval(raven_call)"
      ],
      "metadata": {
        "colab": {
          "base_uri": "https://localhost:8080/"
        },
        "id": "nGyHM8Mypthp",
        "outputId": "c6d71331-63dc-4cb4-ae3c-3d7098b50383"
      },
      "execution_count": 101,
      "outputs": [
        {
          "output_type": "stream",
          "name": "stdout",
          "text": [
            "\n",
            "CREATE TABLE reviews (\n",
            "    id INTEGER PROMARY KEY,\n",
            "    hotel_name TEXT,\n",
            "    location TEXT,\n",
            "    likes TEXT,\n",
            "    dislikes TEXT,\n",
            "    sentiment TEXT\n",
            ")\n",
            "\n",
            "Function:\n",
            "execute_sql(sql: str):\n",
            "   \"\"\"\n",
            "    Runs the SQL code for the given schema. Make sure to properly leverage the schema to answer the user's question in the best way possible.\n",
            "    \"\"\"\n",
            "\n",
            "\n",
            "User Query:how many reviews are there where customers are happy<human_end>User Query: Give me a list of hotel names where customers are happy?<human_end>\n",
            "execute_sql(sql='SELECT hotel_name, sentiment FROM reviews WHERE sentiment = \"happy\"')\n"
          ]
        },
        {
          "output_type": "execute_result",
          "data": {
            "text/plain": [
              "[('excellent', 'happy'), ('Florence', 'happy'), ('cambridge suites', 'happy')]"
            ]
          },
          "metadata": {},
          "execution_count": 101
        }
      ]
    },
    {
      "cell_type": "code",
      "source": [],
      "metadata": {
        "id": "xBkqEV-6qiGi"
      },
      "execution_count": 92,
      "outputs": []
    }
  ]
}