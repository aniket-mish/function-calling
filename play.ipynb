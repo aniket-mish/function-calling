{
  "nbformat": 4,
  "nbformat_minor": 0,
  "metadata": {
    "colab": {
      "provenance": []
    },
    "kernelspec": {
      "name": "python3",
      "display_name": "Python 3"
    },
    "language_info": {
      "name": "python"
    },
    "widgets": {
      "application/vnd.jupyter.widget-state+json": {
        "4db42cd9ba5340e8804266783fdc458a": {
          "model_module": "@jupyter-widgets/controls",
          "model_name": "HBoxModel",
          "model_module_version": "1.5.0",
          "state": {
            "_dom_classes": [],
            "_model_module": "@jupyter-widgets/controls",
            "_model_module_version": "1.5.0",
            "_model_name": "HBoxModel",
            "_view_count": null,
            "_view_module": "@jupyter-widgets/controls",
            "_view_module_version": "1.5.0",
            "_view_name": "HBoxView",
            "box_style": "",
            "children": [
              "IPY_MODEL_b8adcde51e4346c2888e29666432df77",
              "IPY_MODEL_459a4f58dc2245979a6399e0586e4045",
              "IPY_MODEL_66318ee31d5d42f996eee4f6aed210dd"
            ],
            "layout": "IPY_MODEL_1e007ad397954fecb45e1e5e29548a9d"
          }
        },
        "b8adcde51e4346c2888e29666432df77": {
          "model_module": "@jupyter-widgets/controls",
          "model_name": "HTMLModel",
          "model_module_version": "1.5.0",
          "state": {
            "_dom_classes": [],
            "_model_module": "@jupyter-widgets/controls",
            "_model_module_version": "1.5.0",
            "_model_name": "HTMLModel",
            "_view_count": null,
            "_view_module": "@jupyter-widgets/controls",
            "_view_module_version": "1.5.0",
            "_view_name": "HTMLView",
            "description": "",
            "description_tooltip": null,
            "layout": "IPY_MODEL_1653cd61df1b49b0bbc7dfa6e3a63524",
            "placeholder": "​",
            "style": "IPY_MODEL_a3482964585040c3abadccea4fe52112",
            "value": "Downloading readme: 100%"
          }
        },
        "459a4f58dc2245979a6399e0586e4045": {
          "model_module": "@jupyter-widgets/controls",
          "model_name": "FloatProgressModel",
          "model_module_version": "1.5.0",
          "state": {
            "_dom_classes": [],
            "_model_module": "@jupyter-widgets/controls",
            "_model_module_version": "1.5.0",
            "_model_name": "FloatProgressModel",
            "_view_count": null,
            "_view_module": "@jupyter-widgets/controls",
            "_view_module_version": "1.5.0",
            "_view_name": "ProgressView",
            "bar_style": "success",
            "description": "",
            "description_tooltip": null,
            "layout": "IPY_MODEL_8414706216334f128278666621192929",
            "max": 2048,
            "min": 0,
            "orientation": "horizontal",
            "style": "IPY_MODEL_b6bd2cfa7be04c5189d6aa262b321cc4",
            "value": 2048
          }
        },
        "66318ee31d5d42f996eee4f6aed210dd": {
          "model_module": "@jupyter-widgets/controls",
          "model_name": "HTMLModel",
          "model_module_version": "1.5.0",
          "state": {
            "_dom_classes": [],
            "_model_module": "@jupyter-widgets/controls",
            "_model_module_version": "1.5.0",
            "_model_name": "HTMLModel",
            "_view_count": null,
            "_view_module": "@jupyter-widgets/controls",
            "_view_module_version": "1.5.0",
            "_view_name": "HTMLView",
            "description": "",
            "description_tooltip": null,
            "layout": "IPY_MODEL_bda92bd7facc4cf58acc5681765fe722",
            "placeholder": "​",
            "style": "IPY_MODEL_c0958c88858649b79730707fe1b4df1d",
            "value": " 2.05k/2.05k [00:00&lt;00:00, 98.9kB/s]"
          }
        },
        "1e007ad397954fecb45e1e5e29548a9d": {
          "model_module": "@jupyter-widgets/base",
          "model_name": "LayoutModel",
          "model_module_version": "1.2.0",
          "state": {
            "_model_module": "@jupyter-widgets/base",
            "_model_module_version": "1.2.0",
            "_model_name": "LayoutModel",
            "_view_count": null,
            "_view_module": "@jupyter-widgets/base",
            "_view_module_version": "1.2.0",
            "_view_name": "LayoutView",
            "align_content": null,
            "align_items": null,
            "align_self": null,
            "border": null,
            "bottom": null,
            "display": null,
            "flex": null,
            "flex_flow": null,
            "grid_area": null,
            "grid_auto_columns": null,
            "grid_auto_flow": null,
            "grid_auto_rows": null,
            "grid_column": null,
            "grid_gap": null,
            "grid_row": null,
            "grid_template_areas": null,
            "grid_template_columns": null,
            "grid_template_rows": null,
            "height": null,
            "justify_content": null,
            "justify_items": null,
            "left": null,
            "margin": null,
            "max_height": null,
            "max_width": null,
            "min_height": null,
            "min_width": null,
            "object_fit": null,
            "object_position": null,
            "order": null,
            "overflow": null,
            "overflow_x": null,
            "overflow_y": null,
            "padding": null,
            "right": null,
            "top": null,
            "visibility": null,
            "width": null
          }
        },
        "1653cd61df1b49b0bbc7dfa6e3a63524": {
          "model_module": "@jupyter-widgets/base",
          "model_name": "LayoutModel",
          "model_module_version": "1.2.0",
          "state": {
            "_model_module": "@jupyter-widgets/base",
            "_model_module_version": "1.2.0",
            "_model_name": "LayoutModel",
            "_view_count": null,
            "_view_module": "@jupyter-widgets/base",
            "_view_module_version": "1.2.0",
            "_view_name": "LayoutView",
            "align_content": null,
            "align_items": null,
            "align_self": null,
            "border": null,
            "bottom": null,
            "display": null,
            "flex": null,
            "flex_flow": null,
            "grid_area": null,
            "grid_auto_columns": null,
            "grid_auto_flow": null,
            "grid_auto_rows": null,
            "grid_column": null,
            "grid_gap": null,
            "grid_row": null,
            "grid_template_areas": null,
            "grid_template_columns": null,
            "grid_template_rows": null,
            "height": null,
            "justify_content": null,
            "justify_items": null,
            "left": null,
            "margin": null,
            "max_height": null,
            "max_width": null,
            "min_height": null,
            "min_width": null,
            "object_fit": null,
            "object_position": null,
            "order": null,
            "overflow": null,
            "overflow_x": null,
            "overflow_y": null,
            "padding": null,
            "right": null,
            "top": null,
            "visibility": null,
            "width": null
          }
        },
        "a3482964585040c3abadccea4fe52112": {
          "model_module": "@jupyter-widgets/controls",
          "model_name": "DescriptionStyleModel",
          "model_module_version": "1.5.0",
          "state": {
            "_model_module": "@jupyter-widgets/controls",
            "_model_module_version": "1.5.0",
            "_model_name": "DescriptionStyleModel",
            "_view_count": null,
            "_view_module": "@jupyter-widgets/base",
            "_view_module_version": "1.2.0",
            "_view_name": "StyleView",
            "description_width": ""
          }
        },
        "8414706216334f128278666621192929": {
          "model_module": "@jupyter-widgets/base",
          "model_name": "LayoutModel",
          "model_module_version": "1.2.0",
          "state": {
            "_model_module": "@jupyter-widgets/base",
            "_model_module_version": "1.2.0",
            "_model_name": "LayoutModel",
            "_view_count": null,
            "_view_module": "@jupyter-widgets/base",
            "_view_module_version": "1.2.0",
            "_view_name": "LayoutView",
            "align_content": null,
            "align_items": null,
            "align_self": null,
            "border": null,
            "bottom": null,
            "display": null,
            "flex": null,
            "flex_flow": null,
            "grid_area": null,
            "grid_auto_columns": null,
            "grid_auto_flow": null,
            "grid_auto_rows": null,
            "grid_column": null,
            "grid_gap": null,
            "grid_row": null,
            "grid_template_areas": null,
            "grid_template_columns": null,
            "grid_template_rows": null,
            "height": null,
            "justify_content": null,
            "justify_items": null,
            "left": null,
            "margin": null,
            "max_height": null,
            "max_width": null,
            "min_height": null,
            "min_width": null,
            "object_fit": null,
            "object_position": null,
            "order": null,
            "overflow": null,
            "overflow_x": null,
            "overflow_y": null,
            "padding": null,
            "right": null,
            "top": null,
            "visibility": null,
            "width": null
          }
        },
        "b6bd2cfa7be04c5189d6aa262b321cc4": {
          "model_module": "@jupyter-widgets/controls",
          "model_name": "ProgressStyleModel",
          "model_module_version": "1.5.0",
          "state": {
            "_model_module": "@jupyter-widgets/controls",
            "_model_module_version": "1.5.0",
            "_model_name": "ProgressStyleModel",
            "_view_count": null,
            "_view_module": "@jupyter-widgets/base",
            "_view_module_version": "1.2.0",
            "_view_name": "StyleView",
            "bar_color": null,
            "description_width": ""
          }
        },
        "bda92bd7facc4cf58acc5681765fe722": {
          "model_module": "@jupyter-widgets/base",
          "model_name": "LayoutModel",
          "model_module_version": "1.2.0",
          "state": {
            "_model_module": "@jupyter-widgets/base",
            "_model_module_version": "1.2.0",
            "_model_name": "LayoutModel",
            "_view_count": null,
            "_view_module": "@jupyter-widgets/base",
            "_view_module_version": "1.2.0",
            "_view_name": "LayoutView",
            "align_content": null,
            "align_items": null,
            "align_self": null,
            "border": null,
            "bottom": null,
            "display": null,
            "flex": null,
            "flex_flow": null,
            "grid_area": null,
            "grid_auto_columns": null,
            "grid_auto_flow": null,
            "grid_auto_rows": null,
            "grid_column": null,
            "grid_gap": null,
            "grid_row": null,
            "grid_template_areas": null,
            "grid_template_columns": null,
            "grid_template_rows": null,
            "height": null,
            "justify_content": null,
            "justify_items": null,
            "left": null,
            "margin": null,
            "max_height": null,
            "max_width": null,
            "min_height": null,
            "min_width": null,
            "object_fit": null,
            "object_position": null,
            "order": null,
            "overflow": null,
            "overflow_x": null,
            "overflow_y": null,
            "padding": null,
            "right": null,
            "top": null,
            "visibility": null,
            "width": null
          }
        },
        "c0958c88858649b79730707fe1b4df1d": {
          "model_module": "@jupyter-widgets/controls",
          "model_name": "DescriptionStyleModel",
          "model_module_version": "1.5.0",
          "state": {
            "_model_module": "@jupyter-widgets/controls",
            "_model_module_version": "1.5.0",
            "_model_name": "DescriptionStyleModel",
            "_view_count": null,
            "_view_module": "@jupyter-widgets/base",
            "_view_module_version": "1.2.0",
            "_view_name": "StyleView",
            "description_width": ""
          }
        },
        "2ecb3d83b6a146178ca5292e1b3dd07b": {
          "model_module": "@jupyter-widgets/controls",
          "model_name": "HBoxModel",
          "model_module_version": "1.5.0",
          "state": {
            "_dom_classes": [],
            "_model_module": "@jupyter-widgets/controls",
            "_model_module_version": "1.5.0",
            "_model_name": "HBoxModel",
            "_view_count": null,
            "_view_module": "@jupyter-widgets/controls",
            "_view_module_version": "1.5.0",
            "_view_name": "HBoxView",
            "box_style": "",
            "children": [
              "IPY_MODEL_ea13d82182304d43b42410054f9414a7",
              "IPY_MODEL_7f3d7af563bb40dc8e217a6b5a2aea5c",
              "IPY_MODEL_033ad1d64bb9437080c423462b8ed583"
            ],
            "layout": "IPY_MODEL_bf1ee1fe85b44753aa11fba4b1eca5c7"
          }
        },
        "ea13d82182304d43b42410054f9414a7": {
          "model_module": "@jupyter-widgets/controls",
          "model_name": "HTMLModel",
          "model_module_version": "1.5.0",
          "state": {
            "_dom_classes": [],
            "_model_module": "@jupyter-widgets/controls",
            "_model_module_version": "1.5.0",
            "_model_name": "HTMLModel",
            "_view_count": null,
            "_view_module": "@jupyter-widgets/controls",
            "_view_module_version": "1.5.0",
            "_view_name": "HTMLView",
            "description": "",
            "description_tooltip": null,
            "layout": "IPY_MODEL_cd0e9dfacf474bf5be42dfdc0a3226f0",
            "placeholder": "​",
            "style": "IPY_MODEL_58773ed07d7d41c7855d4aba90c680af",
            "value": "Downloading data: 100%"
          }
        },
        "7f3d7af563bb40dc8e217a6b5a2aea5c": {
          "model_module": "@jupyter-widgets/controls",
          "model_name": "FloatProgressModel",
          "model_module_version": "1.5.0",
          "state": {
            "_dom_classes": [],
            "_model_module": "@jupyter-widgets/controls",
            "_model_module_version": "1.5.0",
            "_model_name": "FloatProgressModel",
            "_view_count": null,
            "_view_module": "@jupyter-widgets/controls",
            "_view_module_version": "1.5.0",
            "_view_name": "ProgressView",
            "bar_style": "success",
            "description": "",
            "description_tooltip": null,
            "layout": "IPY_MODEL_62888a82f2394f49ae356106ff28e149",
            "max": 19678149,
            "min": 0,
            "orientation": "horizontal",
            "style": "IPY_MODEL_1006639a32854df0b39ab83697f42feb",
            "value": 19678149
          }
        },
        "033ad1d64bb9437080c423462b8ed583": {
          "model_module": "@jupyter-widgets/controls",
          "model_name": "HTMLModel",
          "model_module_version": "1.5.0",
          "state": {
            "_dom_classes": [],
            "_model_module": "@jupyter-widgets/controls",
            "_model_module_version": "1.5.0",
            "_model_name": "HTMLModel",
            "_view_count": null,
            "_view_module": "@jupyter-widgets/controls",
            "_view_module_version": "1.5.0",
            "_view_name": "HTMLView",
            "description": "",
            "description_tooltip": null,
            "layout": "IPY_MODEL_fb7ce3840a624819bdb118474713ede6",
            "placeholder": "​",
            "style": "IPY_MODEL_e9399d6496394986a7e1984872802114",
            "value": " 19.7M/19.7M [00:01&lt;00:00, 16.2MB/s]"
          }
        },
        "bf1ee1fe85b44753aa11fba4b1eca5c7": {
          "model_module": "@jupyter-widgets/base",
          "model_name": "LayoutModel",
          "model_module_version": "1.2.0",
          "state": {
            "_model_module": "@jupyter-widgets/base",
            "_model_module_version": "1.2.0",
            "_model_name": "LayoutModel",
            "_view_count": null,
            "_view_module": "@jupyter-widgets/base",
            "_view_module_version": "1.2.0",
            "_view_name": "LayoutView",
            "align_content": null,
            "align_items": null,
            "align_self": null,
            "border": null,
            "bottom": null,
            "display": null,
            "flex": null,
            "flex_flow": null,
            "grid_area": null,
            "grid_auto_columns": null,
            "grid_auto_flow": null,
            "grid_auto_rows": null,
            "grid_column": null,
            "grid_gap": null,
            "grid_row": null,
            "grid_template_areas": null,
            "grid_template_columns": null,
            "grid_template_rows": null,
            "height": null,
            "justify_content": null,
            "justify_items": null,
            "left": null,
            "margin": null,
            "max_height": null,
            "max_width": null,
            "min_height": null,
            "min_width": null,
            "object_fit": null,
            "object_position": null,
            "order": null,
            "overflow": null,
            "overflow_x": null,
            "overflow_y": null,
            "padding": null,
            "right": null,
            "top": null,
            "visibility": null,
            "width": null
          }
        },
        "cd0e9dfacf474bf5be42dfdc0a3226f0": {
          "model_module": "@jupyter-widgets/base",
          "model_name": "LayoutModel",
          "model_module_version": "1.2.0",
          "state": {
            "_model_module": "@jupyter-widgets/base",
            "_model_module_version": "1.2.0",
            "_model_name": "LayoutModel",
            "_view_count": null,
            "_view_module": "@jupyter-widgets/base",
            "_view_module_version": "1.2.0",
            "_view_name": "LayoutView",
            "align_content": null,
            "align_items": null,
            "align_self": null,
            "border": null,
            "bottom": null,
            "display": null,
            "flex": null,
            "flex_flow": null,
            "grid_area": null,
            "grid_auto_columns": null,
            "grid_auto_flow": null,
            "grid_auto_rows": null,
            "grid_column": null,
            "grid_gap": null,
            "grid_row": null,
            "grid_template_areas": null,
            "grid_template_columns": null,
            "grid_template_rows": null,
            "height": null,
            "justify_content": null,
            "justify_items": null,
            "left": null,
            "margin": null,
            "max_height": null,
            "max_width": null,
            "min_height": null,
            "min_width": null,
            "object_fit": null,
            "object_position": null,
            "order": null,
            "overflow": null,
            "overflow_x": null,
            "overflow_y": null,
            "padding": null,
            "right": null,
            "top": null,
            "visibility": null,
            "width": null
          }
        },
        "58773ed07d7d41c7855d4aba90c680af": {
          "model_module": "@jupyter-widgets/controls",
          "model_name": "DescriptionStyleModel",
          "model_module_version": "1.5.0",
          "state": {
            "_model_module": "@jupyter-widgets/controls",
            "_model_module_version": "1.5.0",
            "_model_name": "DescriptionStyleModel",
            "_view_count": null,
            "_view_module": "@jupyter-widgets/base",
            "_view_module_version": "1.2.0",
            "_view_name": "StyleView",
            "description_width": ""
          }
        },
        "62888a82f2394f49ae356106ff28e149": {
          "model_module": "@jupyter-widgets/base",
          "model_name": "LayoutModel",
          "model_module_version": "1.2.0",
          "state": {
            "_model_module": "@jupyter-widgets/base",
            "_model_module_version": "1.2.0",
            "_model_name": "LayoutModel",
            "_view_count": null,
            "_view_module": "@jupyter-widgets/base",
            "_view_module_version": "1.2.0",
            "_view_name": "LayoutView",
            "align_content": null,
            "align_items": null,
            "align_self": null,
            "border": null,
            "bottom": null,
            "display": null,
            "flex": null,
            "flex_flow": null,
            "grid_area": null,
            "grid_auto_columns": null,
            "grid_auto_flow": null,
            "grid_auto_rows": null,
            "grid_column": null,
            "grid_gap": null,
            "grid_row": null,
            "grid_template_areas": null,
            "grid_template_columns": null,
            "grid_template_rows": null,
            "height": null,
            "justify_content": null,
            "justify_items": null,
            "left": null,
            "margin": null,
            "max_height": null,
            "max_width": null,
            "min_height": null,
            "min_width": null,
            "object_fit": null,
            "object_position": null,
            "order": null,
            "overflow": null,
            "overflow_x": null,
            "overflow_y": null,
            "padding": null,
            "right": null,
            "top": null,
            "visibility": null,
            "width": null
          }
        },
        "1006639a32854df0b39ab83697f42feb": {
          "model_module": "@jupyter-widgets/controls",
          "model_name": "ProgressStyleModel",
          "model_module_version": "1.5.0",
          "state": {
            "_model_module": "@jupyter-widgets/controls",
            "_model_module_version": "1.5.0",
            "_model_name": "ProgressStyleModel",
            "_view_count": null,
            "_view_module": "@jupyter-widgets/base",
            "_view_module_version": "1.2.0",
            "_view_name": "StyleView",
            "bar_color": null,
            "description_width": ""
          }
        },
        "fb7ce3840a624819bdb118474713ede6": {
          "model_module": "@jupyter-widgets/base",
          "model_name": "LayoutModel",
          "model_module_version": "1.2.0",
          "state": {
            "_model_module": "@jupyter-widgets/base",
            "_model_module_version": "1.2.0",
            "_model_name": "LayoutModel",
            "_view_count": null,
            "_view_module": "@jupyter-widgets/base",
            "_view_module_version": "1.2.0",
            "_view_name": "LayoutView",
            "align_content": null,
            "align_items": null,
            "align_self": null,
            "border": null,
            "bottom": null,
            "display": null,
            "flex": null,
            "flex_flow": null,
            "grid_area": null,
            "grid_auto_columns": null,
            "grid_auto_flow": null,
            "grid_auto_rows": null,
            "grid_column": null,
            "grid_gap": null,
            "grid_row": null,
            "grid_template_areas": null,
            "grid_template_columns": null,
            "grid_template_rows": null,
            "height": null,
            "justify_content": null,
            "justify_items": null,
            "left": null,
            "margin": null,
            "max_height": null,
            "max_width": null,
            "min_height": null,
            "min_width": null,
            "object_fit": null,
            "object_position": null,
            "order": null,
            "overflow": null,
            "overflow_x": null,
            "overflow_y": null,
            "padding": null,
            "right": null,
            "top": null,
            "visibility": null,
            "width": null
          }
        },
        "e9399d6496394986a7e1984872802114": {
          "model_module": "@jupyter-widgets/controls",
          "model_name": "DescriptionStyleModel",
          "model_module_version": "1.5.0",
          "state": {
            "_model_module": "@jupyter-widgets/controls",
            "_model_module_version": "1.5.0",
            "_model_name": "DescriptionStyleModel",
            "_view_count": null,
            "_view_module": "@jupyter-widgets/base",
            "_view_module_version": "1.2.0",
            "_view_name": "StyleView",
            "description_width": ""
          }
        },
        "89dba1a1d83b4a16b29be680645d3a30": {
          "model_module": "@jupyter-widgets/controls",
          "model_name": "HBoxModel",
          "model_module_version": "1.5.0",
          "state": {
            "_dom_classes": [],
            "_model_module": "@jupyter-widgets/controls",
            "_model_module_version": "1.5.0",
            "_model_name": "HBoxModel",
            "_view_count": null,
            "_view_module": "@jupyter-widgets/controls",
            "_view_module_version": "1.5.0",
            "_view_name": "HBoxView",
            "box_style": "",
            "children": [
              "IPY_MODEL_0a564e3341b0428897c0dc63188d352d",
              "IPY_MODEL_f26b77b421b84ea18f1cd32960f71553",
              "IPY_MODEL_9d4b21e492a946f9bb7f899d9ecd3c18"
            ],
            "layout": "IPY_MODEL_7222a3421bd44e7e84c49bc83c9a6acf"
          }
        },
        "0a564e3341b0428897c0dc63188d352d": {
          "model_module": "@jupyter-widgets/controls",
          "model_name": "HTMLModel",
          "model_module_version": "1.5.0",
          "state": {
            "_dom_classes": [],
            "_model_module": "@jupyter-widgets/controls",
            "_model_module_version": "1.5.0",
            "_model_name": "HTMLModel",
            "_view_count": null,
            "_view_module": "@jupyter-widgets/controls",
            "_view_module_version": "1.5.0",
            "_view_name": "HTMLView",
            "description": "",
            "description_tooltip": null,
            "layout": "IPY_MODEL_396b9259c8df4e92a6d932c6a761caf5",
            "placeholder": "​",
            "style": "IPY_MODEL_bea46aaf8ff04057ad70d4181e6bba82",
            "value": "Generating train split: 100%"
          }
        },
        "f26b77b421b84ea18f1cd32960f71553": {
          "model_module": "@jupyter-widgets/controls",
          "model_name": "FloatProgressModel",
          "model_module_version": "1.5.0",
          "state": {
            "_dom_classes": [],
            "_model_module": "@jupyter-widgets/controls",
            "_model_module_version": "1.5.0",
            "_model_name": "FloatProgressModel",
            "_view_count": null,
            "_view_module": "@jupyter-widgets/controls",
            "_view_module_version": "1.5.0",
            "_view_name": "ProgressView",
            "bar_style": "success",
            "description": "",
            "description_tooltip": null,
            "layout": "IPY_MODEL_b76bf69d670c4edb9fec43bc4dff7ca0",
            "max": 20491,
            "min": 0,
            "orientation": "horizontal",
            "style": "IPY_MODEL_8c1525053b9f452a8f65e049a67adaf0",
            "value": 20491
          }
        },
        "9d4b21e492a946f9bb7f899d9ecd3c18": {
          "model_module": "@jupyter-widgets/controls",
          "model_name": "HTMLModel",
          "model_module_version": "1.5.0",
          "state": {
            "_dom_classes": [],
            "_model_module": "@jupyter-widgets/controls",
            "_model_module_version": "1.5.0",
            "_model_name": "HTMLModel",
            "_view_count": null,
            "_view_module": "@jupyter-widgets/controls",
            "_view_module_version": "1.5.0",
            "_view_name": "HTMLView",
            "description": "",
            "description_tooltip": null,
            "layout": "IPY_MODEL_c2cb4e3292d04ad088c31898a97d9a72",
            "placeholder": "​",
            "style": "IPY_MODEL_4d757a9e03724300b8a1d567bb439925",
            "value": " 20491/20491 [00:00&lt;00:00, 87751.26 examples/s]"
          }
        },
        "7222a3421bd44e7e84c49bc83c9a6acf": {
          "model_module": "@jupyter-widgets/base",
          "model_name": "LayoutModel",
          "model_module_version": "1.2.0",
          "state": {
            "_model_module": "@jupyter-widgets/base",
            "_model_module_version": "1.2.0",
            "_model_name": "LayoutModel",
            "_view_count": null,
            "_view_module": "@jupyter-widgets/base",
            "_view_module_version": "1.2.0",
            "_view_name": "LayoutView",
            "align_content": null,
            "align_items": null,
            "align_self": null,
            "border": null,
            "bottom": null,
            "display": null,
            "flex": null,
            "flex_flow": null,
            "grid_area": null,
            "grid_auto_columns": null,
            "grid_auto_flow": null,
            "grid_auto_rows": null,
            "grid_column": null,
            "grid_gap": null,
            "grid_row": null,
            "grid_template_areas": null,
            "grid_template_columns": null,
            "grid_template_rows": null,
            "height": null,
            "justify_content": null,
            "justify_items": null,
            "left": null,
            "margin": null,
            "max_height": null,
            "max_width": null,
            "min_height": null,
            "min_width": null,
            "object_fit": null,
            "object_position": null,
            "order": null,
            "overflow": null,
            "overflow_x": null,
            "overflow_y": null,
            "padding": null,
            "right": null,
            "top": null,
            "visibility": null,
            "width": null
          }
        },
        "396b9259c8df4e92a6d932c6a761caf5": {
          "model_module": "@jupyter-widgets/base",
          "model_name": "LayoutModel",
          "model_module_version": "1.2.0",
          "state": {
            "_model_module": "@jupyter-widgets/base",
            "_model_module_version": "1.2.0",
            "_model_name": "LayoutModel",
            "_view_count": null,
            "_view_module": "@jupyter-widgets/base",
            "_view_module_version": "1.2.0",
            "_view_name": "LayoutView",
            "align_content": null,
            "align_items": null,
            "align_self": null,
            "border": null,
            "bottom": null,
            "display": null,
            "flex": null,
            "flex_flow": null,
            "grid_area": null,
            "grid_auto_columns": null,
            "grid_auto_flow": null,
            "grid_auto_rows": null,
            "grid_column": null,
            "grid_gap": null,
            "grid_row": null,
            "grid_template_areas": null,
            "grid_template_columns": null,
            "grid_template_rows": null,
            "height": null,
            "justify_content": null,
            "justify_items": null,
            "left": null,
            "margin": null,
            "max_height": null,
            "max_width": null,
            "min_height": null,
            "min_width": null,
            "object_fit": null,
            "object_position": null,
            "order": null,
            "overflow": null,
            "overflow_x": null,
            "overflow_y": null,
            "padding": null,
            "right": null,
            "top": null,
            "visibility": null,
            "width": null
          }
        },
        "bea46aaf8ff04057ad70d4181e6bba82": {
          "model_module": "@jupyter-widgets/controls",
          "model_name": "DescriptionStyleModel",
          "model_module_version": "1.5.0",
          "state": {
            "_model_module": "@jupyter-widgets/controls",
            "_model_module_version": "1.5.0",
            "_model_name": "DescriptionStyleModel",
            "_view_count": null,
            "_view_module": "@jupyter-widgets/base",
            "_view_module_version": "1.2.0",
            "_view_name": "StyleView",
            "description_width": ""
          }
        },
        "b76bf69d670c4edb9fec43bc4dff7ca0": {
          "model_module": "@jupyter-widgets/base",
          "model_name": "LayoutModel",
          "model_module_version": "1.2.0",
          "state": {
            "_model_module": "@jupyter-widgets/base",
            "_model_module_version": "1.2.0",
            "_model_name": "LayoutModel",
            "_view_count": null,
            "_view_module": "@jupyter-widgets/base",
            "_view_module_version": "1.2.0",
            "_view_name": "LayoutView",
            "align_content": null,
            "align_items": null,
            "align_self": null,
            "border": null,
            "bottom": null,
            "display": null,
            "flex": null,
            "flex_flow": null,
            "grid_area": null,
            "grid_auto_columns": null,
            "grid_auto_flow": null,
            "grid_auto_rows": null,
            "grid_column": null,
            "grid_gap": null,
            "grid_row": null,
            "grid_template_areas": null,
            "grid_template_columns": null,
            "grid_template_rows": null,
            "height": null,
            "justify_content": null,
            "justify_items": null,
            "left": null,
            "margin": null,
            "max_height": null,
            "max_width": null,
            "min_height": null,
            "min_width": null,
            "object_fit": null,
            "object_position": null,
            "order": null,
            "overflow": null,
            "overflow_x": null,
            "overflow_y": null,
            "padding": null,
            "right": null,
            "top": null,
            "visibility": null,
            "width": null
          }
        },
        "8c1525053b9f452a8f65e049a67adaf0": {
          "model_module": "@jupyter-widgets/controls",
          "model_name": "ProgressStyleModel",
          "model_module_version": "1.5.0",
          "state": {
            "_model_module": "@jupyter-widgets/controls",
            "_model_module_version": "1.5.0",
            "_model_name": "ProgressStyleModel",
            "_view_count": null,
            "_view_module": "@jupyter-widgets/base",
            "_view_module_version": "1.2.0",
            "_view_name": "StyleView",
            "bar_color": null,
            "description_width": ""
          }
        },
        "c2cb4e3292d04ad088c31898a97d9a72": {
          "model_module": "@jupyter-widgets/base",
          "model_name": "LayoutModel",
          "model_module_version": "1.2.0",
          "state": {
            "_model_module": "@jupyter-widgets/base",
            "_model_module_version": "1.2.0",
            "_model_name": "LayoutModel",
            "_view_count": null,
            "_view_module": "@jupyter-widgets/base",
            "_view_module_version": "1.2.0",
            "_view_name": "LayoutView",
            "align_content": null,
            "align_items": null,
            "align_self": null,
            "border": null,
            "bottom": null,
            "display": null,
            "flex": null,
            "flex_flow": null,
            "grid_area": null,
            "grid_auto_columns": null,
            "grid_auto_flow": null,
            "grid_auto_rows": null,
            "grid_column": null,
            "grid_gap": null,
            "grid_row": null,
            "grid_template_areas": null,
            "grid_template_columns": null,
            "grid_template_rows": null,
            "height": null,
            "justify_content": null,
            "justify_items": null,
            "left": null,
            "margin": null,
            "max_height": null,
            "max_width": null,
            "min_height": null,
            "min_width": null,
            "object_fit": null,
            "object_position": null,
            "order": null,
            "overflow": null,
            "overflow_x": null,
            "overflow_y": null,
            "padding": null,
            "right": null,
            "top": null,
            "visibility": null,
            "width": null
          }
        },
        "4d757a9e03724300b8a1d567bb439925": {
          "model_module": "@jupyter-widgets/controls",
          "model_name": "DescriptionStyleModel",
          "model_module_version": "1.5.0",
          "state": {
            "_model_module": "@jupyter-widgets/controls",
            "_model_module_version": "1.5.0",
            "_model_name": "DescriptionStyleModel",
            "_view_count": null,
            "_view_module": "@jupyter-widgets/base",
            "_view_module_version": "1.2.0",
            "_view_name": "StyleView",
            "description_width": ""
          }
        }
      }
    }
  },
  "cells": [
    {
      "cell_type": "code",
      "source": [
        "!pip install datasets -q"
      ],
      "metadata": {
        "id": "os3cuWxb3MO8",
        "colab": {
          "base_uri": "https://localhost:8080/"
        },
        "outputId": "1941cfa1-461c-4f5f-85ee-a58f7b687642"
      },
      "execution_count": 1,
      "outputs": [
        {
          "output_type": "stream",
          "name": "stdout",
          "text": [
            "\u001b[2K     \u001b[90m━━━━━━━━━━━━━━━━━━━━━━━━━━━━━━━━━━━━━━━━\u001b[0m \u001b[32m547.8/547.8 kB\u001b[0m \u001b[31m6.9 MB/s\u001b[0m eta \u001b[36m0:00:00\u001b[0m\n",
            "\u001b[2K     \u001b[90m━━━━━━━━━━━━━━━━━━━━━━━━━━━━━━━━━━━━━━━━\u001b[0m \u001b[32m40.8/40.8 MB\u001b[0m \u001b[31m12.0 MB/s\u001b[0m eta \u001b[36m0:00:00\u001b[0m\n",
            "\u001b[2K     \u001b[90m━━━━━━━━━━━━━━━━━━━━━━━━━━━━━━━━━━━━━━━━\u001b[0m \u001b[32m116.3/116.3 kB\u001b[0m \u001b[31m11.1 MB/s\u001b[0m eta \u001b[36m0:00:00\u001b[0m\n",
            "\u001b[2K     \u001b[90m━━━━━━━━━━━━━━━━━━━━━━━━━━━━━━━━━━━━━━━━\u001b[0m \u001b[32m64.9/64.9 kB\u001b[0m \u001b[31m7.6 MB/s\u001b[0m eta \u001b[36m0:00:00\u001b[0m\n",
            "\u001b[2K     \u001b[90m━━━━━━━━━━━━━━━━━━━━━━━━━━━━━━━━━━━━━━━━\u001b[0m \u001b[32m194.1/194.1 kB\u001b[0m \u001b[31m16.5 MB/s\u001b[0m eta \u001b[36m0:00:00\u001b[0m\n",
            "\u001b[2K     \u001b[90m━━━━━━━━━━━━━━━━━━━━━━━━━━━━━━━━━━━━━━━━\u001b[0m \u001b[32m134.8/134.8 kB\u001b[0m \u001b[31m14.4 MB/s\u001b[0m eta \u001b[36m0:00:00\u001b[0m\n",
            "\u001b[?25h\u001b[31mERROR: pip's dependency resolver does not currently take into account all the packages that are installed. This behaviour is the source of the following dependency conflicts.\n",
            "cudf-cu12 24.4.1 requires pyarrow<15.0.0a0,>=14.0.1, but you have pyarrow 16.1.0 which is incompatible.\n",
            "google-colab 1.0.0 requires requests==2.31.0, but you have requests 2.32.3 which is incompatible.\n",
            "ibis-framework 8.0.0 requires pyarrow<16,>=2, but you have pyarrow 16.1.0 which is incompatible.\u001b[0m\u001b[31m\n",
            "\u001b[0m"
          ]
        }
      ]
    },
    {
      "cell_type": "code",
      "source": [
        "# Housekeeping\n",
        "!rm tripadvisor.db"
      ],
      "metadata": {
        "id": "vnPn25nWJVCh"
      },
      "execution_count": 40,
      "outputs": []
    },
    {
      "cell_type": "markdown",
      "source": [
        "# Getting the dataset"
      ],
      "metadata": {
        "id": "99uRrpDyMpMp"
      }
    },
    {
      "cell_type": "code",
      "execution_count": 3,
      "metadata": {
        "id": "fO2cPo8XH7Qz",
        "colab": {
          "base_uri": "https://localhost:8080/",
          "height": 113,
          "referenced_widgets": [
            "4db42cd9ba5340e8804266783fdc458a",
            "b8adcde51e4346c2888e29666432df77",
            "459a4f58dc2245979a6399e0586e4045",
            "66318ee31d5d42f996eee4f6aed210dd",
            "1e007ad397954fecb45e1e5e29548a9d",
            "1653cd61df1b49b0bbc7dfa6e3a63524",
            "a3482964585040c3abadccea4fe52112",
            "8414706216334f128278666621192929",
            "b6bd2cfa7be04c5189d6aa262b321cc4",
            "bda92bd7facc4cf58acc5681765fe722",
            "c0958c88858649b79730707fe1b4df1d",
            "2ecb3d83b6a146178ca5292e1b3dd07b",
            "ea13d82182304d43b42410054f9414a7",
            "7f3d7af563bb40dc8e217a6b5a2aea5c",
            "033ad1d64bb9437080c423462b8ed583",
            "bf1ee1fe85b44753aa11fba4b1eca5c7",
            "cd0e9dfacf474bf5be42dfdc0a3226f0",
            "58773ed07d7d41c7855d4aba90c680af",
            "62888a82f2394f49ae356106ff28e149",
            "1006639a32854df0b39ab83697f42feb",
            "fb7ce3840a624819bdb118474713ede6",
            "e9399d6496394986a7e1984872802114",
            "89dba1a1d83b4a16b29be680645d3a30",
            "0a564e3341b0428897c0dc63188d352d",
            "f26b77b421b84ea18f1cd32960f71553",
            "9d4b21e492a946f9bb7f899d9ecd3c18",
            "7222a3421bd44e7e84c49bc83c9a6acf",
            "396b9259c8df4e92a6d932c6a761caf5",
            "bea46aaf8ff04057ad70d4181e6bba82",
            "b76bf69d670c4edb9fec43bc4dff7ca0",
            "8c1525053b9f452a8f65e049a67adaf0",
            "c2cb4e3292d04ad088c31898a97d9a72",
            "4d757a9e03724300b8a1d567bb439925"
          ]
        },
        "outputId": "466435e1-5013-46b9-9f8b-6e997de09870"
      },
      "outputs": [
        {
          "output_type": "display_data",
          "data": {
            "text/plain": [
              "Downloading readme:   0%|          | 0.00/2.05k [00:00<?, ?B/s]"
            ],
            "application/vnd.jupyter.widget-view+json": {
              "version_major": 2,
              "version_minor": 0,
              "model_id": "4db42cd9ba5340e8804266783fdc458a"
            }
          },
          "metadata": {}
        },
        {
          "output_type": "display_data",
          "data": {
            "text/plain": [
              "Downloading data:   0%|          | 0.00/19.7M [00:00<?, ?B/s]"
            ],
            "application/vnd.jupyter.widget-view+json": {
              "version_major": 2,
              "version_minor": 0,
              "model_id": "2ecb3d83b6a146178ca5292e1b3dd07b"
            }
          },
          "metadata": {}
        },
        {
          "output_type": "display_data",
          "data": {
            "text/plain": [
              "Generating train split:   0%|          | 0/20491 [00:00<?, ? examples/s]"
            ],
            "application/vnd.jupyter.widget-view+json": {
              "version_major": 2,
              "version_minor": 0,
              "model_id": "89dba1a1d83b4a16b29be680645d3a30"
            }
          },
          "metadata": {}
        }
      ],
      "source": [
        "from datasets import load_dataset\n",
        "\n",
        "ds = load_dataset(\"argilla/tripadvisor-hotel-reviews\")"
      ]
    },
    {
      "cell_type": "code",
      "source": [
        "sample_data = ds[\"train\"][\"text\"][5]"
      ],
      "metadata": {
        "id": "8OiFM1gMH_LV"
      },
      "execution_count": 4,
      "outputs": []
    },
    {
      "cell_type": "code",
      "source": [
        "sample_data"
      ],
      "metadata": {
        "colab": {
          "base_uri": "https://localhost:8080/",
          "height": 86
        },
        "id": "3oKGx7WrImNg",
        "outputId": "c50cdf2a-4add-461c-e7d3-3e5ba389f1d5"
      },
      "execution_count": 5,
      "outputs": [
        {
          "output_type": "execute_result",
          "data": {
            "text/plain": [
              "\"best hotel stayed picked hotel casablanca based recommendations tripadvisor not disappointed, location good staff extremely friendly helpful rooms reasonable size clean equipped peaceful spite bustling location breakfast delicious continental better normally come expect term, best feeling tranquility busy day town return oasis calm enjoy delicious hazelnut coffee buns head room freshen coming later cheese prosecco sound piano music background.ok n't exactly cheap, new york, stayed expensive luxury hotels felt mightily ripped, not time- definitely casablanca,  \""
            ],
            "application/vnd.google.colaboratory.intrinsic+json": {
              "type": "string"
            }
          },
          "metadata": {},
          "execution_count": 5
        }
      ]
    },
    {
      "cell_type": "markdown",
      "source": [
        "# Building Prompt"
      ],
      "metadata": {
        "id": "4grfi_SNc6fm"
      }
    },
    {
      "cell_type": "code",
      "source": [
        "import requests\n",
        "\n",
        "API_URL = \"http://nexusraven.nexusflow.ai\"\n",
        "\n",
        "headers = {\n",
        "    \"Content-Type\": \"application/json\"\n",
        "}\n",
        "\n",
        "def query(payload):\n",
        "    response = requests.post(API_URL, json=payload, headers=headers)\n",
        "    return response.json()\n",
        "\n",
        "def query_raven(prompt):\n",
        "    payload = {\n",
        "        \"inputs\": prompt,\n",
        "        \"parameters\": {\"do_sample\": True, \"temperature\": 0.001, \"max_new_tokens\": 400, \"stop\": [\"<bot_end>\", \"Thought:\"], \"return_full_text\": False}\n",
        "    }\n",
        "    return query(payload)[0][\"generated_text\"].replace(\"Call:\", \"\").replace(\"Thought:\", \"\").strip()"
      ],
      "metadata": {
        "id": "qE8_Yfelc-DQ"
      },
      "execution_count": 6,
      "outputs": []
    },
    {
      "cell_type": "markdown",
      "source": [
        "# Defining what's important"
      ],
      "metadata": {
        "id": "OjpLReaNMsst"
      }
    },
    {
      "cell_type": "code",
      "source": [
        "from typing import List\n",
        "from dataclasses import dataclass"
      ],
      "metadata": {
        "id": "Z1z1TuLPKmOY"
      },
      "execution_count": 7,
      "outputs": []
    },
    {
      "cell_type": "code",
      "source": [
        "schema_id = {\"hotel_name\", \"location\", \"likes\", \"dislikes\", \"sentiment\"}"
      ],
      "metadata": {
        "id": "vfuMd-UWLMYb"
      },
      "execution_count": 8,
      "outputs": []
    },
    {
      "cell_type": "code",
      "source": [
        "dataclass_schema_representation = '''\n",
        "@dataclass\n",
        "class Record:\n",
        "    hotel_name: str # Name of the hotel if provided, else ''\n",
        "    location: str # Location of the hotel if provided, else ''\n",
        "    likes: str # What the customers liked about the hotel if provided, else ''\n",
        "    dislikes: str # What the customers disliked about the hotel if provided, else ''\n",
        "    sentiment: str # Overall customer sentiment, either 'frustrated' or 'happy'\n",
        "'''"
      ],
      "metadata": {
        "id": "Nlg_Nlf9Lr9F"
      },
      "execution_count": 9,
      "outputs": []
    },
    {
      "cell_type": "code",
      "source": [
        "exec(dataclass_schema_representation)"
      ],
      "metadata": {
        "id": "9bV7cyPVMjAi"
      },
      "execution_count": 10,
      "outputs": []
    },
    {
      "cell_type": "markdown",
      "source": [
        "# Building the database"
      ],
      "metadata": {
        "id": "M3cGtskIM2FG"
      }
    },
    {
      "cell_type": "code",
      "source": [
        "def initialize_db():\n",
        "    import sqlite3\n",
        "\n",
        "    # Connect to SQLite db\n",
        "    conn = sqlite3.connect(\"tripadvisor.db\")\n",
        "    c = conn.cursor()\n",
        "\n",
        "    # Table name\n",
        "    table_name = \"reviews\"\n",
        "\n",
        "    # Schema\n",
        "    columns = '''\n",
        "    id INTEGER PRIMARY KEY,\n",
        "    hotel_name TEXT,\n",
        "    location TEXT,\n",
        "    likes TEXT,\n",
        "    dislikes TEXT,\n",
        "    sentiment TEXT\n",
        "    '''\n",
        "\n",
        "    # Check if the table already exists\n",
        "    c.execute(f\"SELECT * FROM sqlite_master WHERE type='table' AND name='{table_name}'\")\n",
        "    if c.fetchone() is None:\n",
        "        # Create table\n",
        "        c.execute(f\"CREATE TABLE {table_name} ({columns})\")\n",
        "\n",
        "    # Commit the transaction and close the connection\n",
        "    conn.commit()\n",
        "    conn.close()"
      ],
      "metadata": {
        "id": "DIz-StMbMlNj"
      },
      "execution_count": 27,
      "outputs": []
    },
    {
      "cell_type": "code",
      "source": [
        "initialize_db()"
      ],
      "metadata": {
        "id": "9VrtBBSNe4hd"
      },
      "execution_count": 41,
      "outputs": []
    },
    {
      "cell_type": "markdown",
      "source": [
        "# Create a tool to add data in the database"
      ],
      "metadata": {
        "id": "8ir4Omnfe_38"
      }
    },
    {
      "cell_type": "code",
      "source": [
        "from dataclasses import dataclass, fields\n",
        "\n",
        "def update_db(results: List[Record]):\n",
        "    \"\"\"\n",
        "    Registers the information\n",
        "    \"\"\"\n",
        "    import sqlite3\n",
        "    from sqlite3 import ProgrammingError\n",
        "\n",
        "    # Connect to SQLite db\n",
        "    conn = sqlite3.connect(\"tripadvisor.db\")\n",
        "    c = conn.cursor()\n",
        "\n",
        "    # Table name\n",
        "    table_name = \"reviews\"\n",
        "\n",
        "    # Insert records\n",
        "    column_names = \"hotel_name, location, likes, dislikes, sentiment\"\n",
        "    placeholders = \", \".join([\"?\"] * 5)\n",
        "\n",
        "    sql = f\"INSERT INTO {table_name} ({column_names}) VALUES ({placeholders})\"\n",
        "\n",
        "    for record in results:\n",
        "        try:\n",
        "            values = tuple(getattr(record, field.name) for field in fields(record))\n",
        "            print(values)\n",
        "            c.execute(sql, values)\n",
        "        except ProgrammingError:\n",
        "            print(\"Error with record.\")\n",
        "            pass\n",
        "\n",
        "    # Commit the transaction and close the connection\n",
        "    conn.commit()\n",
        "    conn.close()"
      ],
      "metadata": {
        "id": "UQyp4pu0e8oD"
      },
      "execution_count": 42,
      "outputs": []
    },
    {
      "cell_type": "code",
      "source": [
        "sample_record = Record(hotel_name=\"hotel casablanca\", location=\"new york\", likes=\"staff extremely friendly helpful rooms reasonable size clean\", dislikes=\"\", sentiment=\"happy\")"
      ],
      "metadata": {
        "id": "CWvL9c8aiK8p"
      },
      "execution_count": 43,
      "outputs": []
    },
    {
      "cell_type": "code",
      "source": [
        "update_db([sample_record])"
      ],
      "metadata": {
        "id": "QUBIoH2bjkjI",
        "colab": {
          "base_uri": "https://localhost:8080/"
        },
        "outputId": "6c5124d4-0177-4b26-b2bd-1f12b7dc0c0a"
      },
      "execution_count": 44,
      "outputs": [
        {
          "output_type": "stream",
          "name": "stdout",
          "text": [
            "('hotel casablanca', 'new york', 'staff extremely friendly helpful rooms reasonable size clean', '', 'happy')\n"
          ]
        }
      ]
    },
    {
      "cell_type": "markdown",
      "source": [
        "# Create a tool to extract information from the database"
      ],
      "metadata": {
        "id": "cErATMIzkHzU"
      }
    },
    {
      "cell_type": "code",
      "source": [
        "import sqlite3\n",
        "\n",
        "def execute_sql(sql: str):\n",
        "    \"\"\"\n",
        "    Runs the SQL code for the given schema. Make sure to properly leverage the schema to answer the user's question in the best way possible.\n",
        "    \"\"\"\n",
        "    table_name = \"reviews\"\n",
        "\n",
        "    # Connect to SQLite db\n",
        "    conn = sqlite3.connect(\"tripadvisor.db\")\n",
        "    c = conn.cursor()\n",
        "\n",
        "    # Execute the SQL query\n",
        "    results = c.execute(sql).fetchall()\n",
        "\n",
        "    # Commit the transaction and close the connection\n",
        "    conn.commit()\n",
        "    conn.close()\n",
        "\n",
        "    return results"
      ],
      "metadata": {
        "id": "Ba0pjZdSjpoj"
      },
      "execution_count": 45,
      "outputs": []
    },
    {
      "cell_type": "code",
      "source": [
        "sql = '''SELECT * FROM reviews WHERE sentiment = \"happy\"'''\n",
        "\n",
        "print(\"Executing SQL: \", sql)\n",
        "\n",
        "execute_sql(sql)"
      ],
      "metadata": {
        "colab": {
          "base_uri": "https://localhost:8080/"
        },
        "id": "9Qwj4F6NkmTq",
        "outputId": "ccb680b4-1310-40dc-a692-438640e52e0a"
      },
      "execution_count": 46,
      "outputs": [
        {
          "output_type": "stream",
          "name": "stdout",
          "text": [
            "Executing SQL:  SELECT * FROM reviews WHERE sentiment = \"happy\"\n"
          ]
        },
        {
          "output_type": "execute_result",
          "data": {
            "text/plain": [
              "[(1,\n",
              "  'hotel casablanca',\n",
              "  'new york',\n",
              "  'staff extremely friendly helpful rooms reasonable size clean',\n",
              "  '',\n",
              "  'happy')]"
            ]
          },
          "metadata": {},
          "execution_count": 46
        }
      ]
    },
    {
      "cell_type": "markdown",
      "source": [
        "# Building the pipeline"
      ],
      "metadata": {
        "id": "cMZlXo6vlI0-"
      }
    },
    {
      "cell_type": "code",
      "source": [
        "data = ds[\"train\"][\"text\"][3]\n",
        "data"
      ],
      "metadata": {
        "colab": {
          "base_uri": "https://localhost:8080/",
          "height": 86
        },
        "id": "56Ikv2Qdk2eV",
        "outputId": "8497937e-6346-4991-9e5d-438b4bc750ee"
      },
      "execution_count": 47,
      "outputs": [
        {
          "output_type": "execute_result",
          "data": {
            "text/plain": [
              "'great deal waikiki trip hawaii outrigger luana great hotel/condo, booked city view kitchenette, kitchen amenities ask, nice pool cabanas sun gets, barbeque area feel like getting fresh fish market highly recommended, staff friendly accommodating allowing access garage shower room 8 hours checked, 18/day parking little steep want explore life waikiki great hotel beginning main strip, tour desk not open probably went season desk touch tour desks outriggers waikiki happy make arrangements, beach minute walk away pay upwards 100/night right beach,  '"
            ],
            "application/vnd.google.colaboratory.intrinsic+json": {
              "type": "string"
            }
          },
          "metadata": {},
          "execution_count": 47
        }
      ]
    },
    {
      "cell_type": "code",
      "source": [
        "import inspect\n",
        "\n",
        "prompt = \"\\n\" + data\n",
        "\n",
        "signature = inspect.signature(update_db)\n",
        "signature = str(signature).replace(\"__main__.Record\", \"Record\")\n",
        "docstring = update_db.__doc__\n",
        "\n",
        "raven_prompt = f'''{dataclass_schema_representation}\\nFunction:\\n{update_db.__name__}{signature}:\\n   \"\"\"{docstring}\"\"\"\\n\\n\\nUser Query:{prompt}<human_end>'''\n",
        "print(raven_prompt)"
      ],
      "metadata": {
        "colab": {
          "base_uri": "https://localhost:8080/"
        },
        "id": "5dwMAqIslFuK",
        "outputId": "a911ed6a-cd46-46a0-f772-f3e378b325bb"
      },
      "execution_count": 48,
      "outputs": [
        {
          "output_type": "stream",
          "name": "stdout",
          "text": [
            "\n",
            "@dataclass\n",
            "class Record:\n",
            "    hotel_name: str # Name of the hotel if provided, else ''\n",
            "    location: str # Location of the hotel if provided, else ''\n",
            "    likes: str # What the customers liked about the hotel if provided, else ''\n",
            "    dislikes: str # What the customers disliked about the hotel if provided, else ''\n",
            "    sentiment: str # Overall customer sentiment, either 'frustrated' or 'happy'\n",
            "\n",
            "Function:\n",
            "update_db(results: List[Record]):\n",
            "   \"\"\"\n",
            "    Registers the information\n",
            "    \"\"\"\n",
            "\n",
            "\n",
            "User Query:\n",
            "great deal waikiki trip hawaii outrigger luana great hotel/condo, booked city view kitchenette, kitchen amenities ask, nice pool cabanas sun gets, barbeque area feel like getting fresh fish market highly recommended, staff friendly accommodating allowing access garage shower room 8 hours checked, 18/day parking little steep want explore life waikiki great hotel beginning main strip, tour desk not open probably went season desk touch tour desks outriggers waikiki happy make arrangements, beach minute walk away pay upwards 100/night right beach,  <human_end>\n"
          ]
        }
      ]
    },
    {
      "cell_type": "code",
      "source": [
        "raven_call = query_raven(raven_prompt)\n",
        "print(raven_call)"
      ],
      "metadata": {
        "colab": {
          "base_uri": "https://localhost:8080/"
        },
        "id": "tUTLkwYfmNTu",
        "outputId": "15a960fd-fba4-4a01-b7c8-106c81ec4005"
      },
      "execution_count": 49,
      "outputs": [
        {
          "output_type": "stream",
          "name": "stdout",
          "text": [
            "update_db(results=[])\n"
          ]
        }
      ]
    },
    {
      "cell_type": "code",
      "source": [
        "exec(raven_call)"
      ],
      "metadata": {
        "id": "rF2pBSB_nAob"
      },
      "execution_count": 50,
      "outputs": []
    },
    {
      "cell_type": "code",
      "source": [
        "prompt = \"how many reviews are there where customers are happy\"\n",
        "\n",
        "signature = inspect.signature(execute_sql)\n",
        "\n",
        "docstring = execute_sql.__doc__\n",
        "\n",
        "sql_schema_representation = \\\n",
        "\"\"\"\n",
        "CREATE TABLE reviews (\n",
        "    id INTEGER PROMARY KEY,\n",
        "    hotel_name TEXT,\n",
        "    location TEXT,\n",
        "    likes TEXT,\n",
        "    dislikes TEXT,\n",
        "    sentiment TEXT\n",
        ")\n",
        "\"\"\"\n",
        "\n",
        "raven_prompt = f'''{sql_schema_representation}\\nFunction:\\n{execute_sql.__name__}{signature}:\\n   \"\"\"{docstring}\"\"\"\\n\\n\\nUser Query:{prompt}<human_end>'''\n",
        "\n",
        "print(raven_prompt)"
      ],
      "metadata": {
        "colab": {
          "base_uri": "https://localhost:8080/"
        },
        "id": "eOdCUMRQnIxr",
        "outputId": "61b100b3-2f2d-4c55-f71d-d50885671401"
      },
      "execution_count": 51,
      "outputs": [
        {
          "output_type": "stream",
          "name": "stdout",
          "text": [
            "\n",
            "CREATE TABLE reviews (\n",
            "    id INTEGER PROMARY KEY,\n",
            "    hotel_name TEXT,\n",
            "    location TEXT,\n",
            "    likes TEXT,\n",
            "    dislikes TEXT,\n",
            "    sentiment TEXT\n",
            ")\n",
            "\n",
            "Function:\n",
            "execute_sql(sql: str):\n",
            "   \"\"\"\n",
            "    Runs the SQL code for the given schema. Make sure to properly leverage the schema to answer the user's question in the best way possible.\n",
            "    \"\"\"\n",
            "\n",
            "\n",
            "User Query:how many reviews are there where customers are happy<human_end>\n"
          ]
        }
      ]
    },
    {
      "cell_type": "code",
      "source": [
        "raven_call = query_raven(raven_prompt)\n",
        "print(raven_call)"
      ],
      "metadata": {
        "colab": {
          "base_uri": "https://localhost:8080/"
        },
        "id": "jLi4BB-cnwNP",
        "outputId": "026d3dc7-28d7-4a59-fd3d-b535e9d60415"
      },
      "execution_count": 52,
      "outputs": [
        {
          "output_type": "stream",
          "name": "stdout",
          "text": [
            "execute_sql(sql='SELECT COUNT(*) FROM reviews WHERE sentiment = \"happy\"')\n"
          ]
        }
      ]
    },
    {
      "cell_type": "code",
      "source": [
        "eval(raven_call)"
      ],
      "metadata": {
        "colab": {
          "base_uri": "https://localhost:8080/"
        },
        "id": "G3cICJEEn0AP",
        "outputId": "0decb637-1faa-464f-d5b6-25b159575904"
      },
      "execution_count": 53,
      "outputs": [
        {
          "output_type": "execute_result",
          "data": {
            "text/plain": [
              "[(1,)]"
            ]
          },
          "metadata": {},
          "execution_count": 53
        }
      ]
    },
    {
      "cell_type": "markdown",
      "source": [
        "# Let's re-initialize and run the workflow"
      ],
      "metadata": {
        "id": "za_AXm-PtblL"
      }
    },
    {
      "cell_type": "code",
      "source": [
        "!rm tripadvisor.db\n",
        "initialize_db()"
      ],
      "metadata": {
        "id": "e9_BS7lfn2IV"
      },
      "execution_count": 54,
      "outputs": []
    },
    {
      "cell_type": "code",
      "source": [
        "from tqdm import tqdm\n",
        "\n",
        "# Taking data points\n",
        "data = ds[\"train\"][\"text\"][10:20]\n",
        "\n",
        "for i in tqdm(range(0, 10)):\n",
        "\n",
        "    # Ask raven to extract information we want out of the review\n",
        "    raven_prompt = \"\\n\" + data[i]\n",
        "    signature = inspect.signature(update_db)\n",
        "    docstring = update_db.__doc__\n",
        "    raven_prompt = f'''{dataclass_schema_representation}\\nFunction:\\n{update_db.__name__}{signature}:\\n   \"\"\"{docstring}\"\"\"\\n\\n\\nUser Query:{raven_prompt}<human_end>'''\n",
        "\n",
        "    raven_call = query_raven(raven_prompt)\n",
        "    exec(raven_call)"
      ],
      "metadata": {
        "colab": {
          "base_uri": "https://localhost:8080/"
        },
        "id": "CAecH4d4oSvJ",
        "outputId": "82adf3ff-84ab-4548-8b16-4939a40f361a"
      },
      "execution_count": 59,
      "outputs": [
        {
          "output_type": "stream",
          "name": "stderr",
          "text": [
            " 10%|█         | 1/10 [00:01<00:10,  1.12s/it]"
          ]
        },
        {
          "output_type": "stream",
          "name": "stdout",
          "text": [
            "('excellent', 'beginning august', 'good value', 'expensive bar', 'happy')\n"
          ]
        },
        {
          "output_type": "stream",
          "name": "stderr",
          "text": [
            "\r 20%|██        | 2/10 [00:01<00:07,  1.03it/s]"
          ]
        },
        {
          "output_type": "stream",
          "name": "stdout",
          "text": [
            "('', '', '', '', '')\n"
          ]
        },
        {
          "output_type": "stream",
          "name": "stderr",
          "text": [
            "\r 30%|███       | 3/10 [00:02<00:06,  1.08it/s]"
          ]
        },
        {
          "output_type": "stream",
          "name": "stdout",
          "text": [
            "('', '', '', '', '')\n"
          ]
        },
        {
          "output_type": "stream",
          "name": "stderr",
          "text": [
            " 70%|███████   | 7/10 [00:04<00:01,  1.57it/s]"
          ]
        },
        {
          "output_type": "stream",
          "name": "stdout",
          "text": [
            "('', '', '', '', '')\n"
          ]
        },
        {
          "output_type": "stream",
          "name": "stderr",
          "text": [
            "\r 80%|████████  | 8/10 [00:06<00:01,  1.13it/s]"
          ]
        },
        {
          "output_type": "stream",
          "name": "stdout",
          "text": [
            "('Florence', 'Rome', 'modern room, comfortable bathroom, good breakfast', 'late check-in, overcrowded lobby', 'happy')\n"
          ]
        },
        {
          "output_type": "stream",
          "name": "stderr",
          "text": [
            "\r 90%|█████████ | 9/10 [00:07<00:00,  1.01it/s]"
          ]
        },
        {
          "output_type": "stream",
          "name": "stdout",
          "text": [
            "('cambridge suites', 'sept 29-oct 3', 'wonderful', 'none', 'happy')\n"
          ]
        },
        {
          "output_type": "stream",
          "name": "stderr",
          "text": [
            "100%|██████████| 10/10 [00:08<00:00,  1.23it/s]\n"
          ]
        }
      ]
    },
    {
      "cell_type": "code",
      "source": [
        "signature = inspect.signature(execute_sql)\n",
        "docstring = execute_sql.__doc__\n",
        "sql_schema_representation = \\\n",
        "\"\"\"\n",
        "CREATE TABLE reviews (\n",
        "    id INTEGER PROMARY KEY,\n",
        "    hotel_name TEXT,\n",
        "    location TEXT,\n",
        "    likes TEXT,\n",
        "    dislikes TEXT,\n",
        "    sentiment TEXT\n",
        ")\n",
        "\"\"\"\n",
        "\n",
        "raven_prompt = f'''{sql_schema_representation}\\nFunction:\\n{execute_sql.__name__}{signature}:\\n   \"\"\"{docstring}\"\"\"\\n\\n\\nUser Query:{prompt}<human_end>'''\n",
        "raven_prompt = raven_prompt + \"User Query: How many are happy customers?<human_end>\"\n",
        "print(raven_prompt)\n",
        "\n",
        "raven_call = query_raven(raven_prompt)\n",
        "print(raven_call)\n",
        "\n",
        "eval(raven_call)"
      ],
      "metadata": {
        "colab": {
          "base_uri": "https://localhost:8080/"
        },
        "id": "EccRrvs4pScM",
        "outputId": "e90977f4-7da4-4193-d755-12957d60787c"
      },
      "execution_count": 60,
      "outputs": [
        {
          "output_type": "stream",
          "name": "stdout",
          "text": [
            "\n",
            "CREATE TABLE reviews (\n",
            "    id INTEGER PROMARY KEY,\n",
            "    hotel_name TEXT,\n",
            "    location TEXT,\n",
            "    likes TEXT,\n",
            "    dislikes TEXT,\n",
            "    sentiment TEXT\n",
            ")\n",
            "\n",
            "Function:\n",
            "execute_sql(sql: str):\n",
            "   \"\"\"\n",
            "    Runs the SQL code for the given schema. Make sure to properly leverage the schema to answer the user's question in the best way possible.\n",
            "    \"\"\"\n",
            "\n",
            "\n",
            "User Query:how many reviews are there where customers are happy<human_end>User Query: How many are happy customers?<human_end>\n",
            "execute_sql(sql='SELECT COUNT(*) FROM reviews WHERE sentiment = \"happy\"')\n"
          ]
        },
        {
          "output_type": "execute_result",
          "data": {
            "text/plain": [
              "[(6,)]"
            ]
          },
          "metadata": {},
          "execution_count": 60
        }
      ]
    },
    {
      "cell_type": "code",
      "source": [
        "raven_prompt = f'''{sql_schema_representation}\\nFunction:\\n{execute_sql.__name__}{signature}:\\n   \"\"\"{docstring}\"\"\"\\n\\n\\nUser Query:{prompt}<human_end>'''\n",
        "raven_prompt = raven_prompt + \"User Query: Give me a list of hotel names where customers are happy?<human_end>\"\n",
        "print(raven_prompt)\n",
        "\n",
        "raven_call = query_raven(raven_prompt)\n",
        "print(raven_call)\n",
        "\n",
        "eval(raven_call)"
      ],
      "metadata": {
        "colab": {
          "base_uri": "https://localhost:8080/"
        },
        "id": "nGyHM8Mypthp",
        "outputId": "d9b7aa4d-d6ac-4fa1-8c7f-8cb5cb38ed22"
      },
      "execution_count": 61,
      "outputs": [
        {
          "output_type": "stream",
          "name": "stdout",
          "text": [
            "\n",
            "CREATE TABLE reviews (\n",
            "    id INTEGER PROMARY KEY,\n",
            "    hotel_name TEXT,\n",
            "    location TEXT,\n",
            "    likes TEXT,\n",
            "    dislikes TEXT,\n",
            "    sentiment TEXT\n",
            ")\n",
            "\n",
            "Function:\n",
            "execute_sql(sql: str):\n",
            "   \"\"\"\n",
            "    Runs the SQL code for the given schema. Make sure to properly leverage the schema to answer the user's question in the best way possible.\n",
            "    \"\"\"\n",
            "\n",
            "\n",
            "User Query:how many reviews are there where customers are happy<human_end>User Query: Give me a list of hotel names where customers are happy?<human_end>\n",
            "execute_sql(sql='SELECT hotel_name, sentiment FROM reviews WHERE sentiment = \"happy\"')\n"
          ]
        },
        {
          "output_type": "execute_result",
          "data": {
            "text/plain": [
              "[('excellent', 'happy'),\n",
              " ('Florence', 'happy'),\n",
              " ('cambridge suites', 'happy'),\n",
              " ('excellent', 'happy'),\n",
              " ('Florence', 'happy'),\n",
              " ('cambridge suites', 'happy')]"
            ]
          },
          "metadata": {},
          "execution_count": 61
        }
      ]
    },
    {
      "cell_type": "code",
      "source": [],
      "metadata": {
        "id": "xBkqEV-6qiGi"
      },
      "execution_count": null,
      "outputs": []
    }
  ]
}